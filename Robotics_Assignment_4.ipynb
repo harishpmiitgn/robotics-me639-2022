{
 "cells": [
  {
   "cell_type": "markdown",
   "metadata": {},
   "source": [
    "# Question_1"
   ]
  },
  {
   "cell_type": "code",
   "execution_count": 20,
   "metadata": {},
   "outputs": [
    {
     "name": "stdout",
     "output_type": "stream",
     "text": [
      "q_1=1.30588811500363 q_2=-0.547056509455663 Length = 2.00945911277785\n",
      "q_4=0 q_5=1.04820946874082 q_6=1.40290061368638\n"
     ]
    }
   ],
   "source": [
    "import sympy as sympy\n",
    "import numpy as np\n",
    "from numpy import cos as c\n",
    "from numpy import sin as s\n",
    "\n",
    "s1,s2,s3,s4,s5,s6 = sympy.symbols('s1,s2,s3,s4,s5,s6')\n",
    "c1,c2,c3,c4,c5,c6 = sympy.symbols('c1,c2,c3,c4,c5,c6')\n",
    "d2,d3,d6 = 1,1,0.5\n",
    "qd_1 = qd_2 = qd_3 = qd_4 = qd_5 = qd_6 = pi/6\n",
    "\n",
    "r11 = c(qd_1)*(c(qd_2)*(c(qd_4)*c(qd_5)*c(qd_6)-s(qd_4)*s(qd_6))-s(qd_2)*s(qd_5)*c(qd_6))-s(qd_1)*(s(qd_4)*c(qd_5)*c(qd_6)+c(qd_4)*c(qd_6)) \n",
    "r21 = s(qd_1)*(c(qd_2)*(c(qd_4)*c(qd_5)*c(qd_6)-s(qd_4)*s(qd_6))-s(qd_2)*s(qd_5)*c(qd_6))+c(qd_1)*(s(qd_4)*c(qd_5)*c(qd_6)+c(qd_4)*c(qd_6))\n",
    "r31 = -s(qd_2)*(c(qd_4)*c(qd_5)*c(qd_6)-s(qd_4)*s(qd_6))-c(qd_2)*s(qd_5)*s(qd_6)\n",
    "\n",
    "r12  = c(qd_1)*(-c(qd_2)*(c(qd_4)*c(qd_5)*s(qd_6)+s(qd_4)*c(qd_6))+s(qd_2)*s(qd_5)*s(qd_6))-s(qd_1)*(-s(qd_4)*c(qd_5)*s(qd_6)+c(qd_4)*c(qd_6))\n",
    "r22 = s(qd_1)*(-c(qd_2)*(c(qd_4)*c(qd_5)*s(qd_6)+s(qd_4)*c(qd_6))+s(qd_2)*s(qd_5)*s(qd_6))+c(qd_1)*(-s(qd_4)*c(qd_5)*s(qd_6)+c(qd_4)*c(qd_6))\n",
    "r32 = s(qd_2)*(c(qd_4)*c(qd_5)*c(qd_6)+s(qd_4)*s(qd_6))+c(qd_2)*s(qd_5)*s(qd_6)\n",
    "\n",
    "r13 = c(qd_1)*(c(qd_2)*c(qd_4)*s(qd_5)+s(qd_2)*c(qd_5))-s(qd_1)*s(qd_4)*s(qd_5)\n",
    "r23 = s(qd_1)*(c(qd_2)*c(qd_4)*s(qd_5)+s(qd_2)*c(qd_5))+c(qd_1)*s(qd_4)*s(qd_5)\n",
    "r33 = -s(qd_2)*c(qd_4)*s(qd_5)+c(qd_2)*c(qd_5)\n",
    "\n",
    "\n",
    "r14 = c(qd_1)*s(qd_2)*d3-s(qd_1)*d2+d6*(c(qd_1)*c(qd_2)*c(qd_4)*s(qd_5)+c(qd_1)*c(qd_5)*s(qd_2)-s(qd_1)*s(qd_4)*s(qd_5))\n",
    "r24 = s(qd_1)*s(qd_2)*d3+c(qd_1)*d2+d6*(c(qd_1)*s(qd_4)*s(qd_5)+c(qd_2)*c(qd_4)*s(qd_1)*s(qd_5)+c(qd_5)*s(qd_1)*s(qd_2))\n",
    "r34 = c(qd_2)*d3+d6*(c(qd_2)*c(qd_5)-c(qd_4)*s(qd_2)*s(qd_5))\n",
    "\n",
    "\n",
    "MAT = [[r11,r12,r13,r14],\n",
    "       [r21,r22,r23,r24],\n",
    "       [r31,r32,r33,r34],\n",
    "       [ 0 , 0 , 0 , 1 ]]\n",
    "#print(MAT)\n",
    "\n",
    "eqd_1 = sympy.Eq(c1*s2*s3-s1*d2,1.2)\n",
    "eqd_2 = sympy.Eq(s1*s2*s3+d2*c1,0.8)\n",
    "eqd_3 = sympy.Eq(c2*s3,1.88)\n",
    "eqd_4 = sympy.Eq(c1**2+s1**2,0.9)\n",
    "eqd_5 = sympy.Eq(c2**2+s2**2,1.2)\n",
    "\n",
    "Ans = sympy.solve([eqd_1,eqd_2,eqd_3,eqd_4,eqd_5],s1,s2,s3,c1,c2)\n",
    "\n",
    "(s1,s2,s3,c1,c2)=Ans[0]\n",
    "\n",
    "print(\"q_1=\"+str(atan(s1/c1))+\" q_2=\"+str(atan(s2/c2))+\" Length = \"+str(s3))\n",
    "Rotaion_Matrix = [[c1*c2,-s1,c1*s2,0],[s1*c2,c1,s1*s2,0],[-s2,0,c2,0],[0,0,0,1]]\n",
    "\n",
    "P = np.transpose(Rotaion_Matrix)*(MAT)\n",
    "\n",
    "Q_1 = sympy.Eq(c5,P[2][2])\n",
    "Q_2 = sympy.Eq(s4,P[1][2]/P[0][2])\n",
    "Q_3 = sympy.Eq(s6,-P[2][1]/P[2][0])\n",
    "\n",
    "Ans1 = sympy.solve([Q_1,Q_2,Q_3],\n",
    "                   [ s4, c5, s6])\n",
    "\n",
    "print(\"q_4=\"+str(atan(Ans1.get(s4)))+\n",
    "      \" q_5=\"+str(acos(Ans1.get(c5))) +\n",
    "      \" q_6=\"+str(atan(Ans1.get(s6))))"
   ]
  },
  {
   "cell_type": "markdown",
   "metadata": {},
   "source": [
    "# Question_2"
   ]
  },
  {
   "cell_type": "code",
   "execution_count": 17,
   "metadata": {
    "scrolled": false
   },
   "outputs": [
    {
     "name": "stdout",
     "output_type": "stream",
     "text": [
      "q_1=0.643501108793284 q_2=0.927295218001612 Length=0.200000000000000\n",
      "q_4=0.343023940420703\n"
     ]
    }
   ],
   "source": [
    "import sympy as sympy\n",
    "import numpy as np\n",
    "\n",
    "\n",
    "s1,s2,s3,s4,s5,s6 = sympy.symbols('s1,s2,s3,s4,s5,s6')\n",
    "c1,c2,c3,c4,c5,c6 = sympy.symbols('c1,c2,c3,c4,c5,c6')\n",
    "d2,d3,d6 = 1,1,0.5\n",
    "\n",
    "eq1 = sympy.Eq(d2*c1+d3*c2,1.4)\n",
    "eq2 = sympy.Eq(d2*s1+d3*s2,1.4)\n",
    "eq3 = sympy.Eq(s3,0.2)\n",
    "eq4 = sympy.Eq(c1**2+s1**2,1)\n",
    "eq5 = sympy.Eq(c2**2+s2**2,1)\n",
    "\n",
    "ans = sympy.solve([eq1,eq2,eq3,eq4,eq5],s1,s2,s3,c1,c2)\n",
    "\n",
    "(s1,s2,s3,c1,c2)=ans[0]\n",
    "print(\"q_1=\"+str(atan(s1/c1))+\" q_2=\"+str(atan(s2/c2))+\" Length=\"+str(s3))\n",
    "\n",
    "Q_1 = sympy.Eq(s2*c4+c2*s4,0.9)\n",
    "Q_2 = sympy.Eq(c2*c4+s2*s4,0.8)\n",
    "ans1 = sympy.solve([Q_1,Q_2],[s4,c4])\n",
    "\n",
    "print(\"q_4=\"+str(atan(ans1.get(s4))))"
   ]
  },
  {
   "cell_type": "markdown",
   "metadata": {},
   "source": [
    "# Question_3"
   ]
  },
  {
   "cell_type": "code",
   "execution_count": null,
   "metadata": {},
   "outputs": [],
   "source": [
    "import sympy as sym\n",
    "import numpy as np\n",
    "from sympy import *\n",
    "from numpy import *\n",
    "\n",
    "jacobian = Matrix([[-20, 5, 1], [-10, 5, 0], [5, 1, 0]])\n",
    "\n",
    "Jtrans = jacobian*jacobian.transpose()\n",
    "#print(Jtrans)\n",
    "joint_velocities = jacobian.transpose()*Jtrans.inv()*Matrix([1,1,1]) \n",
    "print(joint_velocities)"
   ]
  },
  {
   "cell_type": "markdown",
   "metadata": {},
   "source": [
    "# Question_6"
   ]
  },
  {
   "cell_type": "code",
   "execution_count": 19,
   "metadata": {},
   "outputs": [
    {
     "name": "stdout",
     "output_type": "stream",
     "text": [
      "q_1=-0.337889611165861 q_2=0.785398163397448 q_3=0.785398163397448\n"
     ]
    }
   ],
   "source": [
    "import sympy as sympy\n",
    "import numpy as np\n",
    "\n",
    "\n",
    "[[r11,r12,r13],[r21,r22,r23],[r31,r32,r33]] = [[0.9,0.9,0.9],[0.9,0.9,0.9],[0.9,0.9,0.9]]\n",
    "s1,s2,s3 = sympy.symbols('s1,s2,s3')\n",
    "c1,c2,c3 = sympy.symbols('c1,c2,c3')\n",
    "\n",
    "eq1 = sympy.Eq(c1,r33)\n",
    "eq2 = sympy.Eq(c2*s1,r13)\n",
    "eq3 = sympy.Eq(s2*s1,r23)\n",
    "eq4 = sympy.Eq(-s1*c3,r31)\n",
    "eq5 = sympy.Eq(-s1*s3,r32)\n",
    "eq6 = sympy.Eq(c1**1+s1**2,1)\n",
    "\n",
    "Ans = sympy.solve([eq1,eq2,eq3,eq4,eq5,eq6],s1,s2,s3,c1,c2,c3)\n",
    "\n",
    "(s1,s2,s3,c1,c2,c3)=Ans[0]\n",
    "print(\"q_1=\"+str(atan(s1/c1))+\" q_2=\"+str(atan(s2/c2))+\" q_3=\"+str(atan(s3/c3)))"
   ]
  },
  {
   "cell_type": "markdown",
   "metadata": {},
   "source": [
    "# Question_9"
   ]
  },
  {
   "cell_type": "code",
   "execution_count": 27,
   "metadata": {},
   "outputs": [
    {
     "name": "stdout",
     "output_type": "stream",
     "text": [
      "(-0.999180521256603, -0.715464195021075, 1.76053968998146, -0.0404757450997962, 0.698649401089592)\n",
      "(-0.997037356565575, -0.760361703569547, 1.77059312096258, -0.0769188508281979, 0.649499868933641)\n"
     ]
    },
    {
     "name": "stderr",
     "output_type": "stream",
     "text": [
      "E:\\anaconda\\lib\\site-packages\\control\\timeresp.py:941: UserWarning: Non-zero initial condition given for transfer function system. Internal conversion to state space used; may not be consistent with given X0.\n",
      "  warnings.warn(\n"
     ]
    },
    {
     "data": {
      "image/png": "[encoded data removed]",
      "text/plain": [
       "<Figure size 680.315x510.236 with 3 Axes>"
      ]
     },
     "metadata": {
      "needs_background": "light"
     },
     "output_type": "display_data"
    },
    {
     "data": {
      "image/png": "[encoded data removed]",
      "text/plain": [
       "<Figure size 432x288 with 1 Axes>"
      ]
     },
     "metadata": {
      "needs_background": "light"
     },
     "output_type": "display_data"
    }
   ],
   "source": [
    "import numpy as np\n",
    "import matplotlib.pyplot as plt\n",
    "import control as ct\n",
    "import sympy as sympy\n",
    "import matplotlib.animation as animation\n",
    "import mpl_toolkits.mplot3d.axes3d as p3\n",
    "\n",
    "J_E,B_E,ks = 5,3,1\n",
    "kd,kp = 1,0.3\n",
    "\n",
    "dynamics = ct.tf([1],[J_E,B_E])\n",
    "stiff = ct.tf([ks],[1])\n",
    "TransF_1 = ct.series(stiff,dynamics)\n",
    "f1 = ct.tf([kd],[1])\n",
    "TransF_2 = ct.feedback(TransF_1,f1,sign=-1)\n",
    "feed_kp = ct.tf([kp],[1])\n",
    "feed_s = ct.tf([1],[1,0])\n",
    "h3 = ct.series(feed_kp,TransF_2,feed_s)\n",
    "\n",
    "def inv_kin(ox,oy,oz):\n",
    "    s1,s2,s3,s4,s5,s6 = sympy.symbols('s1,s2,s3,s4,s5,s6')\n",
    "    c1,c2,c3,c4,c5,c6 = sympy.symbols('c1,c2,c3,c4,c5,c6')\n",
    "    d2,d3,d6 = 1.2,0.8,1\n",
    "    r11,r21,r31,r41 = 0.2,0.5,0.5,ox\n",
    "    r12,r22,r32,r42 = 1.,1,1,oy\n",
    "    r13,r23,r33,r43 = 1.6,1.6,1.6,oz\n",
    "    r14,r24,r34,r44 = 0,0,0,1\n",
    "    \n",
    "    Mat = [[r11,r12,r13,r14],\n",
    "           [r21,r22,r23,r24],\n",
    "           [r31,r32,r33,r34],\n",
    "           [r41,r42,r43,r44]]\n",
    "  \n",
    "    eq1 = sympy.Eq(c1*s2*s3-s1*d2,r41)\n",
    "    eq2 = sympy.Eq(s1*s2*s3+d2*c1,r42)\n",
    "    eq3 = sympy.Eq(c2*s3,r43)\n",
    "    eq4 = sympy.Eq(c1**2+s1**2,1)\n",
    "    eq5 = sympy.Eq(c2**2+s2**2,1)\n",
    "    \n",
    "    Anslt = sympy.solve([eq1,eq2,eq3,eq4,eq5],s1,s2,s3,c1,c2)\n",
    "    print(Anslt[0])\n",
    "    (s1,s2,s3,c1,c2)=Anslt[0] \n",
    "    return (s1,s2,s3,c1,c2)\n",
    "\n",
    "def get_angles(p1,p2):\n",
    "    (p1s1,p1s2,p1s3,p1c1,p1c2) = inv_kin(p1[0],p1[1],p1[2])\n",
    "    (p2s1,p2s2,p2s3,p2c1,p2c2) = inv_kin(p2[0],p2[1],p2[2])\n",
    "#     print(p1s1,p1s2,p1s3,p1c1,p1c2)\n",
    "#     print(p2s1,p2s2,p2s3,p2c1,p2c2)\n",
    "    p1q1, p1q2 = float(atan(p1s1/p1c1)),float(atan(p1s2/p1c2))\n",
    "    p2q1, p2q2 = float(atan(p2s1/p2c1)),float(atan(p2s2/p2c2))\n",
    "    \n",
    "    u = np.linspace(p1q1,p2q1,nt)\n",
    "    return (p1q1,p1q2,p2q1,p2q2,float(p1s3),float(p2s3))\n",
    "\n",
    "\n",
    "t0 = 1\n",
    "t1 = 20\n",
    "dt = 0.1\n",
    "nt = int(t1 / dt ) + 1 \n",
    "t = np.linspace( t0 , t1 , nt )\n",
    "\n",
    "p1 = [1.25,1.21,1.23]\n",
    "p2 = [1.3,1.25,1.15]\n",
    "(p1q1,p1q2,p2q1,p2q2,p1s3,p2s3) = get_angles(p1,p2)\n",
    "\n",
    "u = np.linspace(p1q1,p2q1,nt)\n",
    "v = np.linspace(p1q2,p2q2,nt)\n",
    "w = np.linspace(p1s3,p2s3,nt)\n",
    "\n",
    "(t,x)=ct.forced_response(h3,t,u,X0=p1q1)\n",
    "(t,y)=ct.forced_response(h3,t,v,X0=p1q2)\n",
    "(t,z)=ct.forced_response(h3,t,w,X0=0)\n",
    "plt.close( 'all ')\n",
    "fig_width_cm = 24\n",
    "fig_height_cm = 18\n",
    "plt . figure (1 , figsize =( fig_width_cm /2.54 , fig_height_cm /2.54))\n",
    "plt . subplot (3 , 1 , 1)\n",
    "plt.plot(t , x , 'blue')\n",
    "plt . xlabel ( 't [ s ] ')\n",
    "plt.grid()\n",
    "plt.legend( labels =( 'q1' ,))\n",
    "plt.subplot(3 , 1 , 2)\n",
    "plt.plot(t , y , 'blue')\n",
    "plt . xlabel ( 't [ s ] ')\n",
    "plt.grid()\n",
    "plt.legend( labels =( 'q2' ,))\n",
    "plt.subplot(3 , 1 , 3)\n",
    "plt.plot(t , z , 'blue')\n",
    "plt.xlabel( 't [ s ]')\n",
    "plt.grid()\n",
    "plt.legend( labels =( 'd' ,))\n",
    "plt.show()\n",
    "\n",
    "\n",
    "x1_arr,y1_arr = cos(x),-sin(x)\n",
    "x2_arr,y2_arr = (cos(x)+cos(y)),-(sin(x)+sin(y))\n",
    "x3_arr,y3_arr = np.linspace(p1[0],p2[0],nt),np.linspace(p1[1],p2[1],nt)\n",
    "fig = plt.figure()\n",
    "ax = fig.add_subplot(\n",
    "    111, aspect=\"equal\", autoscale_on=True, xlim=(-2, 2), ylim=(-2, 2)\n",
    ")\n",
    "\n",
    "ax.grid(alpha=1)\n",
    "ax.set_title(\"Stanford Manipulator\")\n",
    "ax.set_xticklabels([])\n",
    "ax.set_yticklabels([])\n",
    "(line, ) = ax.plot(\n",
    "    [], [], \".-\", lw=1, color=\"black\"\n",
    ") \n",
    "(line2, ) = ax.plot(\n",
    "    [], [], \".-\", lw=1, color='black'\n",
    ") \n",
    "\n",
    "def init():\n",
    "    line.set_data([], [])\n",
    "    return (line,)\n",
    "\n",
    "def animate(i):\n",
    "    x_points = [0, x1_arr[i], x3_arr[i]]\n",
    "    y_points = [0, y1_arr[i], y3_arr[i]]\n",
    "    line.set_data(x_points, y_points)\n",
    "\n",
    "    \n",
    "    return (line,line2,)\n",
    "ani = animation.FuncAnimation(\n",
    "    fig, animate, init_func=init, frames=len(x1_arr)-1, interval=40, blit=True, repeat=False\n",
    ")\n",
    "ani.save('stanford1.mp4', fps=30, extra_args=['-vcodec', 'libx264'])\n",
    "\n",
    "plt.show()"
   ]
  },
  {
   "cell_type": "markdown",
   "metadata": {},
   "source": [
    "# Question_10"
   ]
  },
  {
   "cell_type": "code",
   "execution_count": 14,
   "metadata": {},
   "outputs": [
    {
     "name": "stdout",
     "output_type": "stream",
     "text": [
      "(0.349972464912089, 0.987541302631866, 1.23000000000000, 0.936759987298431, 0.157360019052354)\n",
      "(0.395733180218287, 0.968900229672570, 1.15000000000000, 0.918365531841391, 0.247451702237913)\n"
     ]
    },
    {
     "name": "stderr",
     "output_type": "stream",
     "text": [
      "E:\\anaconda\\lib\\site-packages\\control\\timeresp.py:941: UserWarning: Non-zero initial condition given for transfer function system. Internal conversion to state space used; may not be consistent with given X0.\n",
      "  warnings.warn(\n"
     ]
    },
    {
     "data": {
      "image/png": "[encoded data removed]",
      "text/plain": [
       "<Figure size 680.315x510.236 with 3 Axes>"
      ]
     },
     "metadata": {
      "needs_background": "light"
     },
     "output_type": "display_data"
    },
    {
     "data": {
      "image/png": "[encoded data removed]",
      "text/plain": [
       "<Figure size 432x288 with 1 Axes>"
      ]
     },
     "metadata": {
      "needs_background": "light"
     },
     "output_type": "display_data"
    }
   ],
   "source": [
    "import numpy as np\n",
    "import matplotlib.pyplot as plt\n",
    "import control as ct\n",
    "import sympy as sym\n",
    "from sympy import *\n",
    "from numpy import pi, sin, cos, sqrt, absolute, arccos, arctan, sign\n",
    "import matplotlib.animation as animation\n",
    "import mpl_toolkits.mplot3d.axes3d as p3\n",
    "\n",
    "J_E,B_E,ks = 5,3,1\n",
    "kd,kp = 1,0.3\n",
    "\n",
    "dynamics = ct.tf([1],[J_E,B_E])\n",
    "stiff = ct.tf([ks],[1])\n",
    "TransF_1 = ct.series(stiff,dynamics)\n",
    "f1 = ct.tf([kd],[1])\n",
    "TransF_2 = ct.feedback(TransF_1,f1,sign=-1)\n",
    "feed_kp = ct.tf([kp],[1])\n",
    "feed_s = ct.tf([1],[1,0])\n",
    "h3 = ct.series(feed_kp,TransF_2,feed_s)\n",
    "\n",
    "def inv_kin(ox,oy,oz):\n",
    "    s1,s2,s3,s4,s5,s6 = sym.symbols('s1,s2,s3,s4,s5,s6')\n",
    "    c1,c2,c3,c4,c5,c6 = sym.symbols('c1,c2,c3,c4,c5,c6')\n",
    "    d2,d3,d6 = 1.2,0.8,1\n",
    "    r11,r21,r31,r41 = 0.2,0.5,0.5,ox\n",
    "    r12,r22,r32,r42 = 1.,1,1,oy\n",
    "    r13,r23,r33,r43 = 1.6,1.6,1.6,oz\n",
    "    r14,r24,r34,r44 = 0,0,0,1\n",
    "    \n",
    "    Mat = [[r11,r12,r13,r14],\n",
    "           [r21,r22,r23,r24],\n",
    "           [r31,r32,r33,r34],\n",
    "           [r41,r42,r43,r44]]\n",
    "  \n",
    "    eq1 = sym.Eq(d2*c1+d3*c2,ox)\n",
    "    eq2 = sym.Eq(d2*s1+d3*s2,oy)\n",
    "    eq3 = sym.Eq(s3,oz)\n",
    "    eq4 = sym.Eq(c1**2+s1**2,1)\n",
    "    eq5 = sym.Eq(c2**2+s2**2,1)\n",
    "    \n",
    "    Anslt = sym.solve([eq1,eq2,eq3,eq4,eq5],s1,s2,s3,c1,c2)\n",
    "    print(Anslt[0])\n",
    "    (s1,s2,s3,c1,c2)=Anslt[0] \n",
    "    return (s1,s2,s3,c1,c2)\n",
    "\n",
    "def get_angles(p1,p2):\n",
    "    (p1s1,p1s2,p1s3,p1c1,p1c2) = inv_kin(p1[0],p1[1],p1[2])\n",
    "    (p2s1,p2s2,p2s3,p2c1,p2c2) = inv_kin(p2[0],p2[1],p2[2])\n",
    "#     print(p1s1,p1s2,p1s3,p1c1,p1c2)\n",
    "#     print(p2s1,p2s2,p2s3,p2c1,p2c2)\n",
    "    p1q1, p1q2 = float(atan(p1s1/p1c1)),float(atan(p1s2/p1c2))\n",
    "    p2q1, p2q2 = float(atan(p2s1/p2c1)),float(atan(p2s2/p2c2))\n",
    "    \n",
    "    u = np.linspace(p1q1,p2q1,nt)\n",
    "    return (p1q1,p1q2,p2q1,p2q2,float(p1s3),float(p2s3))\n",
    "\n",
    "\n",
    "t0 = 1\n",
    "t1 = 20\n",
    "dt = 0.1\n",
    "nt = int(t1 / dt ) + 1 \n",
    "t = np.linspace( t0 , t1 , nt )\n",
    "\n",
    "p1 = [1.25,1.21,1.23]\n",
    "p2 = [1.3,1.25,1.15]\n",
    "(p1q1,p1q2,p2q1,p2q2,p1s3,p2s3) = get_angles(p1,p2)\n",
    "\n",
    "u = np.linspace(p1q1,p2q1,nt)\n",
    "v = np.linspace(p1q2,p2q2,nt)\n",
    "w = np.linspace(p1s3,p2s3,nt)\n",
    "\n",
    "(t,x)=ct.forced_response(h3,t,u,X0=p1q1)\n",
    "(t,y)=ct.forced_response(h3,t,v,X0=p1q2)\n",
    "(t,z)=ct.forced_response(h3,t,w,X0=0)\n",
    "plt.close( 'all ')\n",
    "fig_width_cm = 24\n",
    "fig_height_cm = 18\n",
    "plt . figure (1 , figsize =( fig_width_cm /2.54 , fig_height_cm /2.54))\n",
    "plt . subplot (3 , 1 , 1)\n",
    "plt.plot(t , x , 'blue')\n",
    "plt . xlabel ( 't [ s ] ')\n",
    "plt.grid()\n",
    "plt.legend( labels =( 'q1' ,))\n",
    "plt.subplot(3 , 1 , 2)\n",
    "plt.plot(t , y , 'blue')\n",
    "plt . xlabel ( 't [ s ] ')\n",
    "plt.grid()\n",
    "plt.legend( labels =( 'q2' ,))\n",
    "plt.subplot(3 , 1 , 3)\n",
    "plt.plot(t , z , 'blue')\n",
    "plt.xlabel( 't [ s ]')\n",
    "plt.grid()\n",
    "plt.legend( labels =( 'd' ,))\n",
    "plt.show()\n",
    "\n",
    "\n",
    "x1_arr,y1_arr = cos(x),-sin(x)\n",
    "x2_arr,y2_arr = (cos(x)+cos(y)),-(sin(x)+sin(y))\n",
    "x3_arr,y3_arr = np.linspace(p1[0],p2[0],nt),np.linspace(p1[1],p2[1],nt)\n",
    "fig = plt.figure()\n",
    "ax = fig.add_subplot(\n",
    "    111, aspect=\"equal\", autoscale_on=True, xlim=(-2, 2), ylim=(-2, 2)\n",
    ")\n",
    "\n",
    "ax.grid(alpha=1)\n",
    "ax.set_title(\"Stanford Manipulator\")\n",
    "ax.set_xticklabels([])\n",
    "ax.set_yticklabels([])\n",
    "(line, ) = ax.plot(\n",
    "    [], [], \".-\", lw=1, color=\"black\"\n",
    ") \n",
    "(line2, ) = ax.plot(\n",
    "    [], [], \".-\", lw=1, color='black'\n",
    ") \n",
    "\n",
    "def init():\n",
    "    line.set_data([], [])\n",
    "    return (line,)\n",
    "\n",
    "def animate(i):\n",
    "    x_points = [0, x1_arr[i], x3_arr[i]]\n",
    "    y_points = [0, y1_arr[i], y3_arr[i]]\n",
    "    line.set_data(x_points, y_points)\n",
    "\n",
    "    \n",
    "    return (line,line2,)\n",
    "ani = animation.FuncAnimation(\n",
    "    fig, animate, init_func=init, frames=len(x1_arr)-1, interval=40, blit=True, repeat=False\n",
    ")\n",
    "ani.save('stanford.mp4', fps=30, extra_args=['-vcodec', 'libx264'])\n",
    "\n",
    "plt.show()"
   ]
  },
  {
   "cell_type": "markdown",
   "metadata": {},
   "source": [
    "# Question_11"
   ]
  },
  {
   "cell_type": "code",
   "execution_count": 26,
   "metadata": {},
   "outputs": [
    {
     "name": "stdout",
     "output_type": "stream",
     "text": [
      "(-0.474963330849782, -0.887864517260367, -0.936914622305684, 0.880005587680033, 0.460104986921479, -0.349558279132103)\n",
      "q_4=atan(4.0/(25.0*c2 + 25.0*s2))\n",
      "(-0.932157359915714, -0.983400457462024, -0.779685316451944, 0.362053388818509, 0.181448450705654, -0.626171547827935)\n",
      "q_4=atan(4.0/(25.0*c2 + 25.0*s2))\n"
     ]
    },
    {
     "name": "stderr",
     "output_type": "stream",
     "text": [
      "E:\\anaconda\\lib\\site-packages\\control\\timeresp.py:941: UserWarning: Non-zero initial condition given for transfer function system. Internal conversion to state space used; may not be consistent with given X0.\n",
      "  warnings.warn(\n"
     ]
    },
    {
     "data": {
      "image/png": "[encoded data removed]",
      "text/plain": [
       "<Figure size 680.315x510.236 with 3 Axes>"
      ]
     },
     "metadata": {
      "needs_background": "light"
     },
     "output_type": "display_data"
    },
    {
     "data": {
      "image/png": "[encoded data removed]",
      "text/plain": [
       "<Figure size 432x288 with 1 Axes>"
      ]
     },
     "metadata": {
      "needs_background": "light"
     },
     "output_type": "display_data"
    }
   ],
   "source": [
    "import numpy as np\n",
    "import matplotlib.pyplot as plt\n",
    "import control as ct\n",
    "import sympy as sympy\n",
    "import matplotlib.animation as animation\n",
    "import mpl_toolkits.mplot3d.axes3d as p3\n",
    "\n",
    "jeff,beff,ks = 5,3,1\n",
    "kd,kp = 1,0.3\n",
    "dyn = ct.tf([1],[jeff,beff])\n",
    "stiff = ct.tf([ks],[1])\n",
    "h1 = ct.series(stiff,dyn)\n",
    "f1 = ct.tf([kd],[1])\n",
    "h2 = ct.feedback(h1,f1,sign=-1)\n",
    "feed_kp = ct.tf([kp],[1])\n",
    "feed_s = ct.tf([1],[1,0])\n",
    "h3 = ct.series(feed_kp,h2,feed_s)\n",
    "\n",
    "def inv_kin(ox,oy,oz):\n",
    "    s1,s2,s3,s4,s5,s6 = sympy.symbols('s1,s2,s3,s4,s5,s6')\n",
    "    c1,c2,c3,c4,c5,c6 = sympy.symbols('c1,c2,c3,c4,c5,c6')\n",
    "\n",
    "    d2,d3,d4 = 1,1,0.5\n",
    "    q1 = q2 = q3 = q4 = q5 = q6 = pi/6\n",
    "    r11,r21,r31,r41 = 0.16,0.16,0.16,ox\n",
    "    r12,r22,r32,r42 = 1.05,1.05,1.05,oy\n",
    "    r13,r23,r33,r43 = 1.45,1.45,1.45,oz\n",
    "    r14,r24,r34,r44 = 0,0,0,1\n",
    "    Mat = [[r11,r12,r13,r14],\n",
    "           [r21,r22,r23,r24],\n",
    "           [r31,r32,r33,r34],\n",
    "           [r41,r42,r43,r44]]\n",
    " \n",
    "\n",
    "    eq1 = sympy.Eq(c1*(d2*c2+d3*c3 + d4*s3)-d2*s1,ox)\n",
    "    eq2 = sympy.Eq(s1*(d2*c2+d3*c3+d4*s3)+d2*c1,oy)\n",
    "    eq3 = sympy.Eq(d4*c3-d3*s3-d2*s2,oz)\n",
    "    eq4 = sympy.Eq(c1**2+s1**2,1)\n",
    "    eq5 = sympy.Eq(c2**2+s2**2,1)\n",
    "    eq6 = sympy.Eq(c3**2+s3**2,1)\n",
    "    \n",
    "    Ans = sympy.solve([eq1,eq2,eq3,eq4,eq5,eq6],s1,s2,s3,c1,c2,c3)\n",
    "    print(Ans[0])\n",
    "    iq1 = sympy.Eq(s2*c4+c2*s4,r21)\n",
    "    iq2 = sympy.Eq(c2*c4+s2*s4,r11)\n",
    "    Ans1 = sympy.solve([iq1,iq2],[s4,c4])\n",
    "\n",
    "    print(\"q_4=\"+str(atan(Ans1.get(s4))))\n",
    "    (s1,s2,s3,c1,c2,c3)=Ans[0] \n",
    "    return (s1,s2,s3,Ans1.get(s4),c1,c2,c3,Ans1.get(c4))\n",
    "\n",
    "def get_angles(p1,p2):\n",
    "    (p1s1,p1s2,p1s3,p1s4,p1c1,p1c2,p1c3,p1c4) = inv_kin(p1[0],p1[1],p1[2])\n",
    "    (p2s1,p2s2,p2s3,p2s4,p2c1,p2c2,p2c3,p2c4) = inv_kin(p2[0],p2[1],p2[2])\n",
    "    p1q1, p1q2,p1q3 = float(atan(p1s1/p1c1)),float(atan(p1s2/p1c2)), float(atan(p1s3/p1c3))\n",
    "    p2q1, p2q2,p2q3 = float(atan(p2s1/p2c1)),float(atan(p2s2/p2c2)), float(atan(p2s3/p2c3))\n",
    "    u = np.linspace(p1q1,p2q1,nt)\n",
    "    return (p1q1,p1q2,p2q1,p2q2,p1q3,p2q3)\n",
    "\n",
    "t0 = 1\n",
    "t1 = 20\n",
    "dt = 0.1\n",
    "nt = int(t1 / dt ) + 1 \n",
    "t = np.linspace( t0 , t1 , nt )\n",
    "\n",
    "p1 = [0.16,1.05,1.65]\n",
    "p2 = [0.63,1.14,1.45]\n",
    "(p1q1,p1q2,p2q1,p2q2,p1s3,p2s3) = get_angles(p1,p2)\n",
    "\n",
    "u = np.linspace(p1q1,p2q1,nt)\n",
    "v = np.linspace(p1q2,p2q2,nt)\n",
    "w = np.linspace(p1s3,p2s3,nt)\n",
    "\n",
    "(t,x)=ct.forced_response(h3,t,u,X0=p1q1)\n",
    "(t,y)=ct.forced_response(h3,t,v,X0=p1q2)\n",
    "(t,z)=ct.forced_response(h3,t,w,X0=0)\n",
    "plt.close( 'all ')\n",
    "fig_width_cm = 24\n",
    "fig_height_cm = 18\n",
    "plt . figure (1 , figsize =( fig_width_cm /2.54 , fig_height_cm /2.54))\n",
    "plt . subplot (3 , 1 , 1)\n",
    "plt.plot(t , x , 'blue')\n",
    "plt . xlabel ( 't [ s ] ')\n",
    "plt.grid()\n",
    "plt.legend( labels =( 'q1' ,))\n",
    "plt.subplot(3 , 1 , 2)\n",
    "plt.plot(t , y , 'blue')\n",
    "plt . xlabel ( 't [ s ] ')\n",
    "plt.grid()\n",
    "plt.legend( labels =( 'q2' ,))\n",
    "plt.subplot(3 , 1 , 3)\n",
    "plt.plot(t , z , 'blue')\n",
    "plt.xlabel( 't [ s ]')\n",
    "plt.grid()\n",
    "plt.legend( labels =( 'd' ,))\n",
    "plt.show()\n",
    "\n",
    "\n",
    "x1_arr,y1_arr = cos(x),-sin(x)\n",
    "x2_arr,y2_arr = (cos(x)+cos(y)),-(sin(x)+sin(y))\n",
    "x3_arr,y3_arr = np.linspace(p1[0],p2[0],nt),np.linspace(p1[1],p2[1],nt)\n",
    "fig = plt.figure()\n",
    "ax = fig.add_subplot(\n",
    "    111, aspect=\"equal\", autoscale_on=True, xlim=(-2, 2), ylim=(-2, 2)\n",
    ")\n",
    "\n",
    "ax.grid(alpha=1)\n",
    "ax.set_title(\"PUMA Manipulator\")\n",
    "ax.set_xticklabels([])\n",
    "ax.set_yticklabels([])\n",
    "(line, ) = ax.plot(\n",
    "    [], [], \".-\", lw=1, color=\"black\"\n",
    ") \n",
    "(line2, ) = ax.plot(\n",
    "    [], [], \".-\", lw=1, color='black'\n",
    ") \n",
    "\n",
    "\n",
    "def init():\n",
    "    line.set_data([], [])\n",
    "    return (line,)\n",
    "\n",
    "def animate(i):\n",
    "    x_points = [0, x1_arr[i], x3_arr[i]]\n",
    "    y_points = [0, y1_arr[i], y3_arr[i]]\n",
    "\n",
    "    line.set_data(x_points, y_points)    \n",
    "    return (line,line2,)\n",
    "ani = animation.FuncAnimation(\n",
    "    fig, animate, init_func=init, frames=len(x1_arr)-1, interval=40, blit=True, repeat=False\n",
    ")\n",
    "\n",
    "ani.save('PUMA.mp4', fps=30, extra_args=['-vcodec', 'libx264'])\n",
    "\n",
    "plt.show()"
   ]
  },
  {
   "cell_type": "code",
   "execution_count": null,
   "metadata": {},
   "outputs": [],
   "source": []
  }
 ],
 "metadata": {
  "kernelspec": {
   "display_name": "Python 3 (ipykernel)",
   "language": "python",
   "name": "python3"
  },
  "language_info": {
   "codemirror_mode": {
    "name": "ipython",
    "version": 3
   },
   "file_extension": ".py",
   "mimetype": "text/x-python",
   "name": "python",
   "nbconvert_exporter": "python",
   "pygments_lexer": "ipython3",
   "version": "3.9.12"
  },
  "vscode": {
   "interpreter": {
    "hash": "f5b775166e527c2c4c8c7a313eadde439897f6893f91e429bbc029ec9a09e8d5"
   }
  }
 },
 "nbformat": 4,
 "nbformat_minor": 2
}
