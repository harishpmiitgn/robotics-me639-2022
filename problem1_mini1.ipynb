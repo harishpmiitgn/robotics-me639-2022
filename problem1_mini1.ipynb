{
 "cells": [
  {
   "cell_type": "code",
   "execution_count": 1,
   "id": "b73d60f5",
   "metadata": {},
   "outputs": [
    {
     "name": "stdout",
     "output_type": "stream",
     "text": [
      "Enter the excel file name (for e.g. 'demo.xlsx') which have value of x and ycircle.xlsx\n",
      " Enter the speed of the end effector  or Enter 100 for no effect of dynamics: 100\n"
     ]
    },
    {
     "data": {
      "image/png": "[encoded data removed]",
      "text/plain": [
       "<Figure size 432x288 with 1 Axes>"
      ]
     },
     "metadata": {
      "needs_background": "light"
     },
     "output_type": "display_data"
    },
    {
     "name": "stdout",
     "output_type": "stream",
     "text": [
      "[[380.         400.        ]\n",
      " [379.99993683 400.10053094]\n",
      " [379.99974734 400.20106172]\n",
      " ...\n",
      " [379.99943151 399.69840782]\n",
      " [379.99974734 399.79893828]\n",
      " [379.99993683 399.89946906]]\n"
     ]
    }
   ],
   "source": [
    "import numpy as np\n",
    "import matplotlib.pyplot as plt\n",
    "import math\n",
    "import scipy\n",
    "import cv2\n",
    "import pandas as pd\n",
    "\n",
    "\n",
    "from render import Renderer\n",
    "# Renderer is a class(package) which helps to plot in cv2\n",
    "class object(Renderer):\n",
    "    def __init__(self,traject, recordLocation = None):\n",
    "        super().__init__(recordLocation=recordLocation)\n",
    "        self.its = 0\n",
    "        self.q1 = 0     # q1 is the angle made by the first limb of manipulator with x axis\n",
    "        self.q2 = 0     # q2 is the angle made by the second limb of manipulator with x axis\n",
    "        self.theta = 0  # theta is the angle made by the limb 2 w.r.t to limb 1\n",
    "        self.l1 = 200   # length of the first limb\n",
    "        self.l2 = 380   # length of the second limb\n",
    "        self.points = set()\n",
    "        self.traject = traject\n",
    "    def getInfo(self):\n",
    "        info = {\n",
    "            'q1':round(self.q1,4),\n",
    "            'q2':round(self.q2,4), \n",
    "            'x': round(self.x,4),\n",
    "            'y': round(self.y,4),\n",
    "        }\n",
    "        return info\n",
    "    def plot(self):\n",
    "        data = self.traject\n",
    "        plt.scatter(data[:,0],data[:,1])\n",
    "        plt.show()\n",
    "        return data\n",
    "        \n",
    "    def step(self):\n",
    "        self.x = self.traject[self.its,0]\n",
    "        self.y = self.traject[self.its,1]\n",
    "        \n",
    "        self.theta=(math.acos(((self.x)**2+(self.y)**2-(self.l1)**2-(self.l2)**2)/(2*self.l1*self.l2))) \n",
    "        self.q1=math.atan((self.y)/(self.x))-math.atan((self.l2*math.sin(self.theta))/(self.l1+(self.l2*math.cos(self.theta))))\n",
    "        self.q2=(self.q1+self.theta)\n",
    "        \n",
    "        # (x1,y1) is the coordinate of the joint 1\n",
    "        self.x1 = self.l1*math.cos(self.q1)\n",
    "        self.y1 = self.l1*math.sin(self.q1)\n",
    "        \n",
    "        # (x2,y2) is the coordinate of the joint 2\n",
    "        self.x2 = self.x1+self.l2*math.cos(self.q2)\n",
    "        self.y2 = self.y1+self.l2*math.sin(self.q2)\n",
    "        self.its+=1\n",
    "        \n",
    "        self.points.add((self.q1,self.q2,self.x1,self.y1,self.x2,self.y2))\n",
    "    def draw(self,image):\n",
    "        for q1,q2,x1,y1,x2,y2 in self.points:\n",
    "\n",
    "            cv2.line(image,(0,0),(int(self.x1),int(self.y1)),(0,255,0),2) # limb1\n",
    "            cv2.line(image,(int(self.x1),int(self.y1)),(int(self.x2),int(self.y2)),(0,0,255),2) # limb2\n",
    "            cv2.circle(image,(int(x2),int(y2)),2,(255,0,0),-1)  # trajectory traced by our manipulator\n",
    "            \n",
    "        return image \n",
    "\n",
    "user = input(\"Enter the excel file name (for e.g. 'circle.xlsx') which have value of x and y: \")\n",
    "pf = pd.read_excel(user)\n",
    "data_x_y = pf.to_numpy() # converting the dataframe into numpy array\n",
    "anim = object(data_x_y, recordLocation ='anim.mp4')\n",
    "speed = int(input(\" Enter the speed of the end effector  or Enter 100 for no effect of dynamics: \"))\n",
    "# print(data_x_y.shape[0])\n",
    "k=speed\n",
    "if speed >100:\n",
    "    k=100\n",
    "for i in range(0,data_x_y.shape[0]):\n",
    "    anim.step()\n",
    "    \n",
    "    # drawing the every 5th points to run faster (IF you want to run all your points then please ccomment if statement and run anim.render)\n",
    "    if i%5==0:\n",
    "        anim.render(height=600,pause=int(100/k))\n",
    "print(anim.plot())  # plotting the actual trajectory from the given data points\n",
    "        \n",
    "        "
   ]
  },
  {
   "cell_type": "code",
   "execution_count": null,
   "id": "e84f3915",
   "metadata": {},
   "outputs": [],
   "source": []
  }
 ],
 "metadata": {
  "kernelspec": {
   "display_name": "Python 3 (ipykernel)",
   "language": "python",
   "name": "python3"
  },
  "language_info": {
   "codemirror_mode": {
    "name": "ipython",
    "version": 3
   },
   "file_extension": ".py",
   "mimetype": "text/x-python",
   "name": "python",
   "nbconvert_exporter": "python",
   "pygments_lexer": "ipython3",
   "version": "3.9.7"
  }
 },
 "nbformat": 4,
 "nbformat_minor": 5
}
