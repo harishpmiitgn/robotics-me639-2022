{
 "cells": [
  {
   "cell_type": "markdown",
   "id": "6479fd47",
   "metadata": {},
   "source": [
    "Scara manipulator(RRP)"
   ]
  },
  {
   "cell_type": "code",
   "execution_count": 13,
   "id": "ad66fbe3",
   "metadata": {},
   "outputs": [
    {
     "name": "stdout",
     "output_type": "stream",
     "text": [
      "Enter the joint variables : 30 60 5\n",
      "Enter the length of 1st limb and length of 2nd limb : 1 2\n",
      "[[ 0.8660254]\n",
      " [ 2.5      ]\n",
      " [-5.       ]\n",
      " [ 1.       ]]\n"
     ]
    }
   ],
   "source": [
    "import numpy as np\n",
    "import math\n",
    "q1,q2,q3 = map(int,input(\"Enter the joint variables : \").split())\n",
    "l1,l2 = map(int,input(\"Enter the length of 1st limb and length of 2nd limb : \").split())\n",
    "\n",
    "\n",
    "def Rotation_z(q):\n",
    "    R_z = np.array([[math.cos(q*math.pi/180),-math.sin(q*math.pi/180) ,0],\n",
    "                   [math.sin(q*math.pi/180), math.cos(q*math.pi/180) ,0],\n",
    "                   [0,0,1]])\n",
    "    return R_z\n",
    "\n",
    "def Transformation(R,d):\n",
    "    l = np.array([[0,0,0,1]])\n",
    "    K = np.append(R,d,axis=1)\n",
    "    H = np.append(K,l,axis=0)\n",
    "    return H\n",
    "\n",
    "d1_0 = np.array([[0],\n",
    "                 [0],\n",
    "                 [0]])\n",
    "d2_1 = np.array([[l1],\n",
    "                 [0],\n",
    "                 [0]])\n",
    "d3_2 = np.array([[l2],\n",
    "                 [0],\n",
    "                 [0]])\n",
    "P3= np.array([[0],\n",
    "              [0],\n",
    "              [-q3],\n",
    "              [1]])\n",
    "H2_0 = np.matmul(Transformation(Rotation_z(q1),d1_0),Transformation(Rotation_z(q2),d2_1))\n",
    "H3_0 = np.matmul(H2_0,Transformation(Rotation_z(0),d3_2))\n",
    "\n",
    "p0 =  np.matmul(H3_0,P3)\n",
    "print(p0)\n"
   ]
  },
  {
   "cell_type": "code",
   "execution_count": null,
   "id": "409c1cb2",
   "metadata": {},
   "outputs": [],
   "source": []
  }
 ],
 "metadata": {
  "kernelspec": {
   "display_name": "Python 3 (ipykernel)",
   "language": "python",
   "name": "python3"
  },
  "language_info": {
   "codemirror_mode": {
    "name": "ipython",
    "version": 3
   },
   "file_extension": ".py",
   "mimetype": "text/x-python",
   "name": "python",
   "nbconvert_exporter": "python",
   "pygments_lexer": "ipython3",
   "version": "3.9.7"
  }
 },
 "nbformat": 4,
 "nbformat_minor": 5
}
