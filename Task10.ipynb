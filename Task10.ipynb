{
 "cells": [
  {
   "cell_type": "markdown",
   "id": "cd74add9",
   "metadata": {},
   "source": [
    "RRR manipulator"
   ]
  },
  {
   "cell_type": "code",
   "execution_count": 28,
   "id": "5c10801d",
   "metadata": {},
   "outputs": [
    {
     "name": "stdout",
     "output_type": "stream",
     "text": [
      "Enter the length of 1st limb, 2nd limb, and 3rd limb : 1 2 4\n",
      "Enter the value of joint angle 1: 60\n",
      "Enter the value of joint angle 2: 30\n",
      "Enter the value of joint angle 3: 45\n",
      "[[-5.69445252853063 -4.82842712474619 -2.82842712474619]\n",
      " [-2.32842712474619 -2.82842712474619 -2.82842712474619]\n",
      " [0 0 0]\n",
      " [0 0 0]\n",
      " [0 0 0]\n",
      " [1 1 1]]\n"
     ]
    }
   ],
   "source": [
    "import numpy as np\n",
    "import sympy as symp\n",
    "import math\n",
    "l1,l2,l3 = map(int,input(\"Enter the length of 1st limb, 2nd limb, and 3rd limb : \").split())\n",
    "\n",
    "theta1=float(input('Enter the value of joint angle 1: '))*(math.pi)/180\n",
    "theta2=float(input('Enter the value of joint angle 2: '))*(math.pi)/180\n",
    "theta3=float(input('Enter the value of joint angle 3: '))*(math.pi)/180\n",
    "\n",
    "\n",
    "q1, q2, q3 = symp.symbols('q1 q2 q3')\n",
    "\n",
    "# position of endeffector\n",
    "x_pos=l1*symp.cos(q1)+l2*symp.cos(q1+q2)+l3*symp.cos(q1+q2+q3)\n",
    "y_pos=l1*symp.sin(q1)+l2*symp.sin(q1+q2)+l3*symp.sin(q1+q2+q3)\n",
    "z_pos=0\n",
    "\n",
    "dn_0 = np.array([[x_pos], [y_pos],[z_pos]])  \n",
    "\n",
    "x_pos_diff_q1=symp.diff(x_pos,q1)\n",
    "x_pos_diff_q1=x_pos_diff_q1.subs([(q1,theta1),(q2,theta2),(q3,theta3)])   # giving values to the q1,q2,q3 as theta1,theta2,d3 respectively \n",
    "\n",
    "y_pos_diff_q1=symp.diff(y_pos,q1)\n",
    "y_pos_diff_q1=y_pos_diff_q1.subs([(q1,theta1),(q2,theta2),(q3,theta3)])\n",
    "\n",
    "x_pos_diff_q2=symp.diff(x_pos,q2)\n",
    "x_pos_diff_q2=x_pos_diff_q2.subs([(q1,theta1),(q2,theta2),(q3,theta3)])\n",
    "\n",
    "y_pos_diff_q2=symp.diff(y_pos,q2)\n",
    "y_pos_diff_q2=y_pos_diff_q2.subs([(q1,theta1),(q2,theta2),(q3,theta3)])\n",
    "\n",
    "x_pos_diff_q3=symp.diff(x_pos,q3)\n",
    "x_pos_diff_q3=x_pos_diff_q3.subs([(q1,theta1),(q2,theta2),(q3,theta3)])\n",
    "\n",
    "y_pos_diff_q3=symp.diff(y_pos,q3)\n",
    "y_pos_diff_q3=y_pos_diff_q3.subs([(q1,theta1),(q2,theta2),(q3,theta3)])\n",
    "\n",
    "Jv = np.array([[x_pos_diff_q1,x_pos_diff_q2,x_pos_diff_q3],\n",
    "             [y_pos_diff_q1,y_pos_diff_q2,y_pos_diff_q3],\n",
    "             [0,0,0]])\n",
    "\n",
    "Jw = np.array([[0,0,0],[0,0,0],[1,1,1]])\n",
    "J = np.append(Jv,Jw,axis=0)\n",
    "print(J)"
   ]
  },
  {
   "cell_type": "code",
   "execution_count": null,
   "id": "33140a33",
   "metadata": {},
   "outputs": [],
   "source": []
  }
 ],
 "metadata": {
  "kernelspec": {
   "display_name": "Python 3 (ipykernel)",
   "language": "python",
   "name": "python3"
  },
  "language_info": {
   "codemirror_mode": {
    "name": "ipython",
    "version": 3
   },
   "file_extension": ".py",
   "mimetype": "text/x-python",
   "name": "python",
   "nbconvert_exporter": "python",
   "pygments_lexer": "ipython3",
   "version": "3.9.7"
  }
 },
 "nbformat": 4,
 "nbformat_minor": 5
}
