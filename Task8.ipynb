{
 "cells": [
  {
   "cell_type": "code",
   "execution_count": 3,
   "id": "b53f72eb",
   "metadata": {},
   "outputs": [
    {
     "name": "stdout",
     "output_type": "stream",
     "text": [
      "Enter the length of 1st limb, 2nd limb: 2 3\n",
      "Enter the value of joint angle 1: 45\n",
      "Enter the value of joint angle 2: 60\n",
      "Enter the value of joint variable 3: 3\n",
      "[[-4.31199104124030 -2.89777747886721 0]\n",
      " [0.637756427065533 -0.776457135307562 0]\n",
      " [0 0 -1]\n",
      " [0 0 0]\n",
      " [0 0 0]\n",
      " [1 1 0]]\n"
     ]
    }
   ],
   "source": [
    "import numpy as np\n",
    "import sympy as symp\n",
    "import math\n",
    "l1,l2 = map(int,input(\"Enter the length of 1st limb, 2nd limb: \").split())\n",
    "\n",
    "theta1=float(input('Enter the value of joint angle 1: '))*(math.pi)/180\n",
    "theta2=float(input('Enter the value of joint angle 2: '))*(math.pi)/180\n",
    "d3=float(input('Enter the value of 3rd joint variable : '))\n",
    "\n",
    "\n",
    "q1, q2, q3 = symp.symbols('q1 q2 q3')\n",
    "\n",
    "# potion of end effector\n",
    "x_pos=l1*symp.cos(q1)+l2*symp.cos(q1+q2)\n",
    "y_pos=l1*symp.sin(q1)+l2*symp.sin(q1+q2)\n",
    "z_pos=-1*q3\n",
    "\n",
    "dn_0 = np.array([[x_pos], [y_pos],[z_pos]])  # position of endeffector\n",
    "\n",
    "x_pos_diff_q1=symp.diff(x_pos,q1)\n",
    "x_pos_diff_q1=x_pos_diff_q1.subs([(q1,theta1),(q2,theta2),(q3,d3)])  # giving values to the q1,q2,q3 as theta1,theta2,d3 respectively \n",
    "\n",
    "y_pos_diff_q1=symp.diff(y_pos,q1)\n",
    "y_pos_diff_q1=y_pos_diff_q1.subs([(q1,theta1),(q2,theta2),(q3,d3)])\n",
    "\n",
    "z_pos_diff_q1=symp.diff(z_pos,q1)\n",
    "z_pos_diff_q1=z_pos_diff_q1.subs([(q1,theta1),(q2,theta2),(q3,d3)])\n",
    "\n",
    "x_pos_diff_q2=symp.diff(x_pos,q2)\n",
    "x_pos_diff_q2=x_pos_diff_q2.subs([(q1,theta1),(q2,theta2),(q3,d3)])\n",
    "\n",
    "y_pos_diff_q2=symp.diff(y_pos,q2)\n",
    "y_pos_diff_q2=y_pos_diff_q2.subs([(q1,theta1),(q2,theta2),(q3,d3)])\n",
    "\n",
    "z_pos_diff_q2=symp.diff(z_pos,q2)\n",
    "z_pos_diff_q2=z_pos_diff_q2.subs([(q1,theta1),(q2,theta2),(q3,d3)])\n",
    "\n",
    "x_pos_diff_q3=symp.diff(x_pos,q3)\n",
    "x_pos_diff_q3=x_pos_diff_q3.subs([(q1,theta1),(q2,theta2),(q3,d3)])\n",
    "\n",
    "y_pos_diff_q3=symp.diff(y_pos,q3)\n",
    "y_pos_diff_q3=y_pos_diff_q3.subs([(q1,theta1),(q2,theta2),(q3,d3)])\n",
    "\n",
    "z_pos_diff_q3=symp.diff(z_pos,q3)\n",
    "z_pos_diff_q3=z_pos_diff_q3.subs([(q1,theta1),(q2,theta2),(q3,d3)])\n",
    "\n",
    "\n",
    "Jv = np.array([[x_pos_diff_q1,x_pos_diff_q2,x_pos_diff_q3],\n",
    "             [y_pos_diff_q1,y_pos_diff_q2,y_pos_diff_q3],\n",
    "             [z_pos_diff_q1,z_pos_diff_q2,z_pos_diff_q3]])   # linear velocity jacobian matrix\n",
    "\n",
    "Jw = np.array([[0,0,0],[0,0,0],[1,1,0]])     # Angular velocity jacobian matrix\n",
    "J = np.append(Jv,Jw,axis=0)   # Combine Jacobian matrix\n",
    "print(J)"
   ]
  },
  {
   "cell_type": "code",
   "execution_count": null,
   "id": "4dbf9926",
   "metadata": {},
   "outputs": [],
   "source": []
  }
 ],
 "metadata": {
  "kernelspec": {
   "display_name": "Python 3 (ipykernel)",
   "language": "python",
   "name": "python3"
  },
  "language_info": {
   "codemirror_mode": {
    "name": "ipython",
    "version": 3
   },
   "file_extension": ".py",
   "mimetype": "text/x-python",
   "name": "python",
   "nbconvert_exporter": "python",
   "pygments_lexer": "ipython3",
   "version": "3.9.7"
  }
 },
 "nbformat": 4,
 "nbformat_minor": 5
}
