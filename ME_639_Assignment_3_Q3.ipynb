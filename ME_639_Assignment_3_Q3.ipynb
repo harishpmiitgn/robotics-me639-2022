{
  "nbformat": 4,
  "nbformat_minor": 0,
  "metadata": {
    "colab": {
      "provenance": [],
      "include_colab_link": true
    },
    "kernelspec": {
      "name": "python3",
      "display_name": "Python 3"
    },
    "language_info": {
      "name": "python"
    }
  },
  "cells": [
    {
      "cell_type": "markdown",
      "metadata": {
        "id": "view-in-github",
        "colab_type": "text"
      },
      "source": [
        "<a href=\"https://colab.research.google.com/github/Shaandili/robotics-me639-2022/blob/Shaandili/ME_639_Assignment_3_Q3.ipynb\" target=\"_parent\"><img src=\"https://colab.research.google.com/assets/colab-badge.svg\" alt=\"Open In Colab\"/></a>"
      ]
    },
    {
      "cell_type": "code",
      "execution_count": null,
      "metadata": {
        "id": "Kn6-O0KEUk8I"
      },
      "outputs": [],
      "source": [
        "#inputs = no. of links, dh parameters, revolute or prismatic?\n",
        "#output = jacobian\n",
        "import math as m\n",
        "import numpy as np\n",
        "links = int(input()) #no. of links (if spherical - include as 3 revolute joints)\n",
        "dh = np.zeros((links,4)) #matrix with denavit hartenburg parameters\n",
        "print(\"enter dh parameters for each link in the order d,theta,r,alpha\")\n",
        "for i in range(links-1):\n",
        "  a = list(map(float,input().strip().split()))[:4]\n",
        "  dh[i] = a\n",
        "#calculation of transformation matrices:\n",
        "H = [0]*(links) #array with link to link transformation matrices\n",
        "H[0] = np.identity(4)\n",
        "H0 = np.identity(4) #overall transformation matrix\n",
        "for i in range(links-1):\n",
        "  d = dh[i][0]\n",
        "  theta = dh[i][1]\n",
        "  r = dh[i][2]\n",
        "  alpha = dh[i][3]\n",
        "  Z = [[m.cos(theta), -1*m.sin(theta), 0, 0], #transforation matrix, Z operations\n",
        "       [m.sin(theta), m.cos(theta), 0, 0],\n",
        "       [0, 0, 1, d],\n",
        "       [0, 0, 0, 1]]\n",
        "  X = [[1, 0, 0, r], #transforation matrix, X operations\n",
        "       [0, m.cos(alpha), -1*m.sin(alpha), 0],\n",
        "       [0, m.sin(alpha), m.cos(alpha), 0],\n",
        "       [0, 0, 0, 1]]\n",
        "  H[i+1] = np.matmul(Z,X) #adding current link to link transformation to H matrix\n",
        "  H0 = H0@H[i+1] #mutliplying link to link transformations to get overall transformation"
      ]
    },
    {
      "cell_type": "code",
      "source": [
        "on0 = [H0[0][3],H0[1][3],H0[2][3]] #position of last origin (end effector) wrt base\n",
        "o = np.zeros(3) #for storing position of end effector wrt current frame\n",
        "J = np.zeros((6,links)) #jacobian (initialized)\n",
        "rorp = input(\"linkwise, enter type of joint (include end effector too): \").strip().split() #revolute or prismatic joint?"
      ],
      "metadata": {
        "id": "a6UL2DV-GLtW"
      },
      "execution_count": null,
      "outputs": []
    },
    {
      "cell_type": "code",
      "source": [
        "h = np.identity(4) #matrix representing transformation from base to current frame\n",
        "for i in range(links):\n",
        "  h = h@H[i]\n",
        "  z = [h[0][2], h[1][2], h[2][2]] #z -> last column of rotation\n",
        "  if rorp[i] == \"prismatic\": #assigning of values to jacobian column in case of prismatic joint\n",
        "    J[0][i] = z[0]\n",
        "    J[1][i] = z[1]\n",
        "    J[2][i] = z[2]\n",
        "    J[3][i] = 0\n",
        "    J[4][i] = 0\n",
        "    J[5][i] = 0\n",
        "  else: #assigning of values to jacobian column in case of revolute joint\n",
        "    oi0 = [h[0][3], h[1][3], h[2][3]] #position of current frame origin wrt base origin\n",
        "    #calculation of o:\n",
        "    o[0] = on0[0] - oi0[0] \n",
        "    o[1] = on0[1] - oi0[1]\n",
        "    o[2] = on0[2] - oi0[2]\n",
        "    zxoi = (z[1]*o[2]) - (o[1]*z[2]) \n",
        "    zxoj = (o[0]*z[2]) - (z[0]*o[2])\n",
        "    zxok = (z[0]*o[1]) - (o[0]*z[1])\n",
        "    zxo = [zxoi, zxoj, zxok] #cross product of z and o\n",
        "    J[0][i] = zxo[0]\n",
        "    J[1][i] = zxo[1]\n",
        "    J[2][i] = zxo[2]\n",
        "    J[3][i] = z[0]\n",
        "    J[4][i] = z[1]\n",
        "    J[5][i] = z[2]\n",
        "\n",
        "print(J) #complete manipulator jacobian"
      ],
      "metadata": {
        "id": "nfcU-VdQ45lo"
      },
      "execution_count": null,
      "outputs": []
    },
    {
      "cell_type": "code",
      "source": [
        "print(on0) #end effector position"
      ],
      "metadata": {
        "id": "sXfnvL07-6Bt"
      },
      "execution_count": null,
      "outputs": []
    },
    {
      "cell_type": "code",
      "source": [
        "qdot = list(map(float,input(\"qdot values: \").strip().split())) # rate of change of joint variables"
      ],
      "metadata": {
        "id": "5NF_5Lfl_DMh"
      },
      "execution_count": null,
      "outputs": []
    },
    {
      "cell_type": "code",
      "source": [
        "xdot = J@qdot\n",
        "print(\"linear velocity: \", xdot[0], xdot[1], xdot[2],\"\\n\")\n",
        "print(\"angular velocity: \", xdot[3], xdot[4], xdot[5])"
      ],
      "metadata": {
        "id": "QnCzrFbjANvs"
      },
      "execution_count": null,
      "outputs": []
    }
  ]
}