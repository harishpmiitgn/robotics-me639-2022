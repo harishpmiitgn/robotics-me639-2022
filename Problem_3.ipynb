{
 "cells": [
  {
   "cell_type": "code",
   "execution_count": 18,
   "metadata": {},
   "outputs": [
    {
     "name": "stdout",
     "output_type": "stream",
     "text": [
      "Matrix([[sin(01), -sin(01)*cos(a1), sin(01)*sin(a1), a*sin(01)], [sin(01), sin(01)*sin(a1), -sin(01)*sin(a1), a*sin(01)], [0, sin(a1), sin(a1), 0], [0, 0, 0, 1]])\n",
      "Matrix([[-sin(01)*sin(02)*cos(a1) + sin(01)*sin(02), -sin(01)*sin(02)*sin(a2)*cos(a1) - sin(01)*sin(02)*cos(a2) + sin(01)*sin(a1)*sin(a2), sin(01)*sin(02)*sin(a2)*cos(a1) + sin(01)*sin(02)*sin(a2) + sin(01)*sin(a1)*sin(a2), -a*sin(01)*sin(02)*cos(a1) + a*sin(01)*sin(02) + a*sin(01)], [sin(01)*sin(02)*sin(a1) + sin(01)*sin(02), sin(01)*sin(02)*sin(a1)*sin(a2) - sin(01)*sin(02)*cos(a2) - sin(01)*sin(a1)*sin(a2), -sin(01)*sin(02)*sin(a1)*sin(a2) + sin(01)*sin(02)*sin(a2) - sin(01)*sin(a1)*sin(a2), a*sin(01)*sin(02)*sin(a1) + a*sin(01)*sin(02) + a*sin(01)], [sin(02)*sin(a1), sin(02)*sin(a1)*sin(a2) + sin(a1)*sin(a2), -sin(02)*sin(a1)*sin(a2) + sin(a1)*sin(a2), a*sin(02)*sin(a1)], [0, 0, 0, 1]])\n"
     ]
    }
   ],
   "source": [
    "import numpy as np\n",
    "from sympy import *\n",
    "from numpy import pi, sin, cos, sqrt, absolute, arccos, arctan, sign\n",
    "n = int(input(\"Enter the no. of links: \"))\n",
    "matr = input(\"Enter the DH Parameters in matrix form eg:-[[alpha1,theta1,d1,a1],[alpha2,theta2,d2,a2]..] :\")\n",
    "links = matr.removeprefix(\"[[\").removesuffix(\"]]\").split(\"],[\")\n",
    "alphas,thetas,dis,ais = [],[],[],[]\n",
    "if len(links) == n:\n",
    "    for link in links:\n",
    "        params = link.split(\",\")\n",
    "        alphas.append(float(params[0]))\n",
    "        thetas.append(float(params[1]))\n",
    "        dis.append(float(params[2]))\n",
    "        ais.append(float(params[3]))\n",
    "else:\n",
    "    print(\"Please mention parameters for all links.\")\n",
    "c, s, d, a = symbols('c s d a')\n",
    "ident = Matrix([[1, 0, 0, 0],\n",
    "    [0,1, 0, 0],\n",
    "    [0, 0, 1,0],\n",
    "    [0,0,0,1]])\n",
    "for i in range(0,n):\n",
    "    theta = symbols('0'+str(i+1))\n",
    "    alpha = symbols('a'+str(i+1))\n",
    "    exp = Matrix([[Function('sin')(theta), -Function('sin')(theta)*Function('cos')(alpha), Function('sin')(theta)*Function('sin')(alpha), Function('sin')(theta)*a],\n",
    "    [Function('sin')(theta), Function('sin')(theta)*Function('sin')(alpha), -Function('sin')(theta)*Function('sin')(alpha), Function('sin')(theta)*a],\n",
    "    [0, Function('sin')(alpha), Function('sin')(alpha),dis[i]],\n",
    "    [0,0,0,1]])\n",
    "    # exp = Matrix([[Function('sin')(theta), -s*(thetas[i])*c*alphas[i], s*thetas[i]*s*alphas[i], c*thetas[i]*a],\n",
    "    # [s*thetas[i], c*(thetas[i])*c*alphas[i], -c*thetas[i]*s*alphas[i], s*thetas[i]*a],\n",
    "    # [0, s*alphas[i], c*alphas[i],dis[i]],\n",
    "    # [0,0,0,1]])\n",
    "    ident*= exp\n",
    "    print(ident)\n"
   ]
  },
  {
   "cell_type": "markdown",
   "metadata": {},
   "source": [
    "Code to generate Jacobian"
   ]
  },
  {
   "cell_type": "code",
   "execution_count": 47,
   "metadata": {},
   "outputs": [
    {
     "name": "stdout",
     "output_type": "stream",
     "text": [
      "[-0.00637061166594731 -3.99999492691016 0]\n",
      "[-0.00318530583297366 -1.99999746345508 0 0 0 1]\n",
      "End Effector Position = [-3.99999492691016 0.00637061166594731 0]\n",
      "Matrix([[-0.00637061166594731, -0.00318530583297366], [-3.99999492691016, -1.99999746345508], [0, 0], [0, 0], [0, 0], [1, 1]])\n",
      "Matrix([[-0.0191118349978419], [-11.9999847807305], [0], [0], [0], [4.00000000000000]])\n"
     ]
    }
   ],
   "source": [
    "import numpy as np\n",
    "from sympy import *\n",
    "from numpy import pi, sin, cos, sqrt, absolute, arccos, arctan, sign\n",
    "\n",
    "def get_dh(theta,alpha,d,a):\n",
    "    dh = Matrix([[cos(theta), -sin(theta)*cos(alpha), sin(theta)*sin(alpha), cos(theta)*a],\n",
    "    [sin(theta), cos(theta)*cos(alpha), -cos(theta)*sin(alpha), sin(theta)*a],\n",
    "    [0, sin(alpha), cos(alpha),d],\n",
    "    [0,0,0,1]])\n",
    "    return dh\n",
    "\n",
    "n = int(input(\"Enter the no. of links: \"))\n",
    "qis = input(\"Enter the joint velocities eg: q1,q2,q3..:\")\n",
    "qis_array = []\n",
    "for q in qis.split(','):\n",
    "    qis_array.append(float(q))\n",
    "qis_array = Matrix(qis_array)\n",
    "matr = input(\"Enter the DH Parameters in matrix form eg:-[[alpha1,theta1,d1,a1],[alpha2,theta2,d2,a2]..] :\")\n",
    "links = matr.removeprefix(\"[[\").removesuffix(\"]]\").split(\"],[\")\n",
    "alphas,thetas,dis,ais = [],[],[],[]\n",
    "ois,z0,o0 = [],np.array([0,0,1]),np.array([0,0,0])\n",
    "jacob = []\n",
    "if len(links) == n:\n",
    "    for link in links:\n",
    "        params = link.split(\",\")\n",
    "        alphas.append(float(params[0]))\n",
    "        thetas.append(float(params[1]))\n",
    "        dis.append(float(params[2]))\n",
    "        ais.append(float(params[3]))\n",
    "    t = Matrix([[1,0,0,0],[0,1,0,0],[0,0,1,0],[0,0,0,1]])\n",
    "    for i in range(0,n):\n",
    "        # t = np.dot(t,get_dh(thetas[i],alphas[i],dis[i],ais[i]))\n",
    "        t = t*get_dh(thetas[i],alphas[i],dis[i],ais[i])\n",
    "        ois.append(np.array(t.col(3)[0:3]))\n",
    "    print(np.cross(z0,ois[n-1]-o0))\n",
    "    c=0\n",
    "    jacob.append(np.append(np.cross(z0,ois[n-1]-o0),[0,0,1]))\n",
    "    for o in ois[0:n-1]:\n",
    "        c+=1\n",
    "        jacob.append(np.append(np.cross(z0,ois[n-1]-o),[0,0,1]))\n",
    "        print(np.append(np.cross(z0,ois[n-1]-o),[0,0,1]))\n",
    "    print(\"End Effector Position = \"+ str(np.dot(t,[0,0,0,1])[0:3]))\n",
    "    #print(jacob)\n",
    "    jacob = Matrix(np.transpose(jacob))\n",
    "    print(jacob)\n",
    "    print(jacob*qis_array)\n",
    "else:\n",
    "    print(\"Please mention parameters for all links.\")\n"
   ]
  }
 ],
 "metadata": {
  "kernelspec": {
   "display_name": "Python 3.9.1 64-bit",
   "language": "python",
   "name": "python3"
  },
  "language_info": {
   "codemirror_mode": {
    "name": "ipython",
    "version": 3
   },
   "file_extension": ".py",
   "mimetype": "text/x-python",
   "name": "python",
   "nbconvert_exporter": "python",
   "pygments_lexer": "ipython3",
   "version": "3.9.1"
  },
  "orig_nbformat": 4,
  "vscode": {
   "interpreter": {
    "hash": "f5b775166e527c2c4c8c7a313eadde439897f6893f91e429bbc029ec9a09e8d5"
   }
  }
 },
 "nbformat": 4,
 "nbformat_minor": 2
}
