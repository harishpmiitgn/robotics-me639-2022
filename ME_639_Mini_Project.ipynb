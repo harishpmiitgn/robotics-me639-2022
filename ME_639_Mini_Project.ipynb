{
  "nbformat": 4,
  "nbformat_minor": 0,
  "metadata": {
    "colab": {
      "provenance": [],
      "authorship_tag": "ABX9TyNBHtQ5lvBtxuqD8clz7RBr",
      "include_colab_link": true
    },
    "kernelspec": {
      "name": "python3",
      "display_name": "Python 3"
    },
    "language_info": {
      "name": "python"
    }
  },
  "cells": [
    {
      "cell_type": "markdown",
      "metadata": {
        "id": "view-in-github",
        "colab_type": "text"
      },
      "source": [
        "<a href=\"https://colab.research.google.com/github/Shaandili/robotics-me639-2022/blob/Shaandili/ME_639_Mini_Project.ipynb\" target=\"_parent\"><img src=\"https://colab.research.google.com/assets/colab-badge.svg\" alt=\"Open In Colab\"/></a>"
      ]
    },
    {
      "cell_type": "code",
      "execution_count": 12,
      "metadata": {
        "id": "23VLZY9JY_sU"
      },
      "outputs": [],
      "source": [
        "#if there are any issues while viewing animation, please skip the FuncAnimation method\n",
        "#instead, please copy-paste the for loop towards the end of task 1 part 1 (right before anim has been defined)\n",
        "#it is in its own code cell, and can be used to view individual frames/ a crude animation\n",
        "#task 1 part 1\n",
        "from matplotlib import rc\n",
        "rc('animation',html = 'jshtml') #to view the animation object in colab\n",
        "import math as m \n",
        "import numpy as np\n",
        "import matplotlib.pyplot as plt\n",
        "import matplotlib.animation as animation #to create animation objects\n",
        "import sys\n",
        "import seaborn as sns\n",
        "from scipy.integrate import odeint #to solve ordinary differential equations"
      ]
    },
    {
      "cell_type": "code",
      "source": [
        "PI = 3.14159\n",
        "m1 = int(input())\n",
        "m2 = int(input())\n",
        "l1 = int(input())\n",
        "l2 = int(input())"
      ],
      "metadata": {
        "id": "8JuGpbwuIOCX"
      },
      "execution_count": null,
      "outputs": []
    },
    {
      "cell_type": "code",
      "source": [
        "Rmax = l1 + l2 #maximum extent of workspace\n",
        "Rmin = abs(l1 - l2) #minimum extent of workspace"
      ],
      "metadata": {
        "id": "3cxSqDJZKiDN"
      },
      "execution_count": 5,
      "outputs": []
    },
    {
      "cell_type": "code",
      "source": [
        "#function to plot axes:\n",
        "def initialize():\n",
        "  ax = plt.axes(xlim = (-Rmax-0.1,Rmax+0.1), ylim = (-Rmax-0.1,Rmax+0.1))\n",
        "#creating a figure object, specifying size\n",
        "fig = plt.figure(figsize = (5,5))"
      ],
      "metadata": {
        "id": "u4Dyf4uYGjNC"
      },
      "execution_count": null,
      "outputs": []
    },
    {
      "cell_type": "code",
      "source": [
        "#checks if a point is within the workspace (assuming both arms can move by 360 degrees)\n",
        "def isworkspace(x,y):\n",
        "  dist = m.sqrt(x**2 + y**2)  #finds point's distance from base\n",
        "  if dist>Rmax or dist<Rmin:  #point should fall between the min and max extent of workspace\n",
        "    return 0 #this means the point is not in the workspace\n",
        "  else:\n",
        "    return 1 #means the point is in the workspace"
      ],
      "metadata": {
        "id": "S_S6tEjaroYO"
      },
      "execution_count": 7,
      "outputs": []
    },
    {
      "cell_type": "code",
      "source": [
        "#just as an example, testing out the trajectory of a circle of radius = 1.5 centered at the base\n",
        "angle = np.linspace(0,6.28,100) #creating an array of parameter values\n",
        "\n",
        "x = 1.5*np.cos(angle) #array of x values using parameter\n",
        "y = 1.5*np.sin(angle) #array of y values using parameter\n"
      ],
      "metadata": {
        "id": "zy3pYLymGTiY"
      },
      "execution_count": 8,
      "outputs": []
    },
    {
      "cell_type": "code",
      "source": [
        "#function to draw a single frame of an animation\n",
        "def frame(w):\n",
        "  global x,y #calls upon the arrays we created previously\n",
        "  if not isworkspace(x[w],y[w]): #checks if each point in trajectory is in workspace\n",
        "    print(\"not in workspace\")\n",
        "    sys.exit() #if not in workspace, prints error message and exits\n",
        "  else:\n",
        "    #application of first few equations:\n",
        "    theta = m.acos((x[w]**2 + y[w]**2 - l1**2 - l2**2)/(2*l1*l2))\n",
        "    q1 = m.atan(y[w]/x[w]) - m.atan(l2*m.sin(theta)/(l1 + l2*m.cos(theta)))\n",
        "    q2 = q1 + theta\n",
        "    #finding the end points of each arm - end effector points already known, x1 and y1 are end points of first arm\n",
        "    x1 = l1*m.cos(q1)\n",
        "    y1 = l1*m.sin(q1)\n",
        "    #arrays with x and y points of base (0,0) and the end points of each arm\n",
        "    X = [0,x1,x[w]]\n",
        "    Y = [0,y1,y[w]]\n",
        "    #for clearing the previous frame's animation and initializing the axes \n",
        "    #(however, as of now including these creates and error where we can't view the animation object at all)\n",
        "    # plt.clf()\n",
        "    # initialize()\n",
        "    #creating an object that plots the lines for the robot's arms\n",
        "    pl = plt.plot(X,Y)\n",
        "    #returning the object\n",
        "    return pl"
      ],
      "metadata": {
        "id": "7VSEWp-2GXmL"
      },
      "execution_count": 9,
      "outputs": []
    },
    {
      "cell_type": "code",
      "source": [
        "# a way to output the animation without using FuncAnimation - however, it gives as many animations as there are frames \n",
        "# also serves as a way to view individual frames\n",
        "for i in range(100):\n",
        "  plt.clf()\n",
        "  initialize()\n",
        "  frame(i)\n",
        "  plt.pause(0.01)"
      ],
      "metadata": {
        "id": "0Dh0AImOGvzH"
      },
      "execution_count": null,
      "outputs": []
    },
    {
      "cell_type": "code",
      "source": [
        "#creating the animation object\n",
        "anim = animation.FuncAnimation(fig,frame, frames = 100, blit = True)"
      ],
      "metadata": {
        "id": "6EzuY1UEGahC"
      },
      "execution_count": null,
      "outputs": []
    },
    {
      "cell_type": "code",
      "source": [
        "anim #viewing the animation object"
      ],
      "metadata": {
        "id": "pGcpsbubUKYF"
      },
      "execution_count": null,
      "outputs": []
    },
    {
      "cell_type": "code",
      "source": [
        "#task 1 part 2\n",
        "#input trajectory\n",
        "#trajectory would be defined by tau values, not the linear spaces here\n",
        "\n",
        "#input torque values\n",
        "tau1 = int(input())\n",
        "tau2 = int(input())\n",
        "#array of torque values\n",
        "tau = [tau1, tau2]\n",
        "\n",
        "t = np.linspace(0,100,100) #vector for time points\n",
        "\n",
        "#initial conditions for q1 and q2\n",
        "q10 = 0\n",
        "q20 = 0\n",
        "#array for initial conditions of q1 and q2\n",
        "q0 = [q10, q20]\n",
        "#taking initial angular velocities to be 0\n",
        "Q10 = 0\n",
        "Q20 = 0\n",
        "#array for initial conditions of Q1 and Q2\n",
        "Q0 = [Q10, Q20]"
      ],
      "metadata": {
        "id": "jN5sdML81IbT"
      },
      "execution_count": 16,
      "outputs": []
    },
    {
      "cell_type": "code",
      "source": [
        "#method to define 2nd order ode\n",
        "# odeint(ode2) solves the 2nd order diff eq (written as first order of Q)\n",
        "def ode2(Q,t):\n",
        "  g = 9.81\n",
        "  Q1 = Q[0]\n",
        "  Q2 = Q[1]\n",
        "  q1 = []\n",
        "  q2 = []\n",
        "  global m1,m2,l1,l2, tau1, tau2,q10,q20\n",
        "  if t == 0:\n",
        "    q1 = q10\n",
        "    q2 = q20\n",
        "  A = (m1*(l1**2)/3) + (m2*(l1**2))\n",
        "  B = (m2*l1*l2/2)*np.cos(q2 - q1)\n",
        "  F = (m2*(l2**2)) + (m2*(l2**2)/4)\n",
        "  P = tau1 - (m2*g*l1*np.cos(q2)) - (m1*g*l1*np.cos(q2)/2) + (m2*l2*l1*Q2*(Q2 - Q1)/2)*np.sin(q2 - q1)\n",
        "  T = tau2 + (m2*l1*l2/2)*Q1*(Q2 - Q1)*np.sin(q2 - q1) - (m2*g*l2/2)*np.sin(q2)\n",
        "  mat1 = [[A,B],[B,F]]\n",
        "  mat2 = [P,T]\n",
        "  qsol = np.matmul(np.linalg.inv(mat1),mat2)\n",
        "  dQ1dt = qsol[0]\n",
        "  dQ2dt = qsol[1]\n",
        "  return [dQ1dt, dQ2dt]\n",
        "\n",
        "Q = odeint(ode2,Q0,t) #solution for angular velocities"
      ],
      "metadata": {
        "id": "ub2zZ6cvfB4k"
      },
      "execution_count": null,
      "outputs": []
    },
    {
      "cell_type": "code",
      "source": [
        "#method to define 1st order ode (using solutions of ode 2)\n",
        "# odeint(ode1) solves the 1st order diff eq\n",
        "def ode1(q,t,Q):\n",
        "  q1 = q[0]\n",
        "  q2 = q[1]\n",
        "  dq1dt = Q[0]\n",
        "  dq2dt = Q[1]\n",
        "  return [dq1dt,dq2dt]\n",
        "\n",
        "q = odeint(ode1,q0,t) #solution for joint variables as a function of time"
      ],
      "metadata": {
        "id": "kdIBoIg3fHEJ"
      },
      "execution_count": null,
      "outputs": []
    },
    {
      "cell_type": "code",
      "source": [
        "#method to define first order ode (using solutions of ode1)\n",
        "\n",
        "def odexy(X,t,Q,q):\n",
        "  x = X[0]\n",
        "  y = X[1]\n",
        "  cartspace = [[-1*l1*np.sin(q1), -1*l2*np.sin(q2)],[l1*np.cos(q1), l2*np.cos(q2)]]\n",
        "  xsol = np.matmul(cartspace,Q)\n",
        "  dxdt = xsol[0]\n",
        "  dydt = xsol[1]\n",
        "  return [dxdt, dydt]\n",
        "  \n",
        "#inital conditions for end effector point\n",
        "x0 = l1+l2\n",
        "y0 = 0\n",
        "X0 = [x0, y0]\n",
        "\n",
        "#finding x and y as a function of time\n",
        "X = odeint(odexy,X0,t)\n",
        "x = X[0]\n",
        "y = X[1]"
      ],
      "metadata": {
        "id": "cGXZctwQfKNF"
      },
      "execution_count": null,
      "outputs": []
    },
    {
      "cell_type": "code",
      "source": [
        "#calling frame method to panimate position of robot at different instances of time\n",
        "speed = animation.FuncAnimation(fig,frame, frames = 100, blit = True)"
      ],
      "metadata": {
        "id": "u_-8kX_efPzW"
      },
      "execution_count": null,
      "outputs": []
    },
    {
      "cell_type": "code",
      "source": [
        "speed #viewing animation"
      ],
      "metadata": {
        "id": "XotMzxCEfQSW"
      },
      "execution_count": null,
      "outputs": []
    },
    {
      "cell_type": "code",
      "source": [
        "#task 2\n",
        "Fx = int(input())\n",
        "Fy = int(input())\n",
        "c = int(input()) # intercept of wall with y-axis: a parameter that defines position of the wall\n",
        "#exception: if the wall is perfectly upright i.e. vertical with respect to the horizontal, this is the intercept with the x axis\n",
        "alpha = m.atan(Fy/Fx) #angle the force makes with the horizontal\n",
        "beta = 90*(PI/180) - alpha #angle the wall makes with the horizontal\n",
        "gamma = m.atan(-1/m.tan(beta)) #angle the normal to the wall makes with the horizontal"
      ],
      "metadata": {
        "id": "wSRmdNq4Mycq"
      },
      "execution_count": null,
      "outputs": []
    },
    {
      "cell_type": "code",
      "source": [
        "#these lines of code initialize an array of x and y values according to the equation of the normal to the wall\n",
        "#this line will be the trajectory the end effector will follow\n",
        "#this is why x values start from Rmin, so that the x,y values remain in workspace\n",
        "if beta == 90*(PI/180):\n",
        "  x = np.linspace(Rmin,c,100)\n",
        "  y = 0*x\n",
        "else:\n",
        "  x = np.linspace(Rmin*m.cos(gamma),Rmax*m.cos(gamma),100)\n",
        "  y = m.tan(gamma)*x + c"
      ],
      "metadata": {
        "id": "4bX50zpquP0S"
      },
      "execution_count": null,
      "outputs": []
    },
    {
      "cell_type": "code",
      "source": [
        "#if the final point in the trajectory is not in workspace it is not possible to apply force\n",
        "#in this case the code prints an error message and exits\n",
        "if not isworkspace(x[99],y[99]) or not isworkspace(x[0],y[0]):\n",
        "  print(\"wall surface not in workspace\")\n",
        "  sys.exit()"
      ],
      "metadata": {
        "id": "_Ir02c32uUbY"
      },
      "execution_count": null,
      "outputs": []
    },
    {
      "cell_type": "code",
      "source": [
        "#animation object for reaching wall (using the previously defined frame method to follow the normal)\n",
        "wall = animation.FuncAnimation(fig,frame, frames = 100, blit = True)"
      ],
      "metadata": {
        "id": "zjbqlceLuW4Q"
      },
      "execution_count": null,
      "outputs": []
    },
    {
      "cell_type": "code",
      "source": [
        "wall #viewing the animation object"
      ],
      "metadata": {
        "id": "PXzTAWkAuZnV"
      },
      "execution_count": null,
      "outputs": []
    },
    {
      "cell_type": "code",
      "source": [
        "#finding joint variables for final point\n",
        "theta = m.acos((x[99]**2 + y[99]**2 - l1**2 - l2**2)/(2*l1*l2))\n",
        "q1 = m.atan(y[99]/x[99]) - m.atan(l2*m.sin(theta)/(l1 + l2*m.cos(theta)))\n",
        "q2 = q1 + theta"
      ],
      "metadata": {
        "id": "GruACVTEuaZo"
      },
      "execution_count": null,
      "outputs": []
    },
    {
      "cell_type": "code",
      "source": [
        "#using the joint variables and input force to find torque applied at joints\n",
        "cartspace2 = [[-1*l1*m.sin(q1), l1*m.cos(q2)],[-1*l2*m.sin(q2) l2*m.cos(q2)]]\n",
        "F = [Fx, Fy]\n",
        "tau = np.matmul(cartspace2,F)\n",
        "print(tau)"
      ],
      "metadata": {
        "id": "pkL4OacBuegn"
      },
      "execution_count": null,
      "outputs": []
    },
    {
      "cell_type": "code",
      "source": [
        "#task 3\n",
        "#entering spring constant, equilibrium point, displacement point\n",
        "k = int(input())\n",
        "x0 = int(input())\n",
        "y0 = int(input())\n",
        "x1 = int(input())\n",
        "y1 = int(input())"
      ],
      "metadata": {
        "id": "zKl1lGUYvFTI"
      },
      "execution_count": null,
      "outputs": []
    },
    {
      "cell_type": "code",
      "source": [
        "#finding other extreme\n",
        "p = x -x0\n",
        "q = y - y0\n",
        "x2 = x0 - p\n",
        "y2 = y0 - q\n",
        "#checking if both extremes are in workspace before proceeding\n",
        "if not isworkspace(x1,y1) or not isworkspace(x2,y2):\n",
        "  print(\"displacement region not in workspace\")\n",
        "  sys.exit()\n",
        "# defining x and y arrays that store the values that the end effector will travel through\n",
        "if x1>=x2:\n",
        "  x = np.linspace(x2,x1,100)\n",
        "else:\n",
        "  x = np.linspace(x1,x2,100)\n",
        "if y1>=y2:\n",
        "  y = np.linspace(y2,y1,100)\n",
        "else:\n",
        "  y = np.linspace(y1,y2,100)"
      ],
      "metadata": {
        "id": "NYB6Rt_65Xsy"
      },
      "execution_count": null,
      "outputs": []
    },
    {
      "cell_type": "code",
      "source": [
        "#external additional driving forces\n",
        "FX = int(input())\n",
        "FY = int(input())\n",
        "#defining the spring forces, adding with external driving forces\n",
        "Fx = k*(x-x0) + FX\n",
        "Fy = k*(y-y0) + FY\n",
        "#defining array of joint variables that we will go through for each end effector point\n",
        "theta = np.arccos((x**2 + y**2 - l1**2 - l2**2)/(2*l1*l2))\n",
        "q1 = np.arctan(y/x) - np.arctan(l2*np.sin(theta)/(l1 + l2*np.cos(theta)))\n",
        "q2 = q1 + theta"
      ],
      "metadata": {
        "id": "8hXe8fqS5btD"
      },
      "execution_count": null,
      "outputs": []
    },
    {
      "cell_type": "code",
      "source": [
        "#defining array of torques we will go through\n",
        "#reason: spring action can only be simulated accurately if we consider the varying speeds along our trajectory\n",
        "# - otherwise it's just oscillation around a point\n",
        "cartspace2 = [[-1*l1*m.sin(q1), l1*m.cos(q2)],[-1*l2*m.sin(q2) l2*m.cos(q2)]]\n",
        "F = [Fx, Fy]\n",
        "tau = np.matmul(cartspace2,F)\n",
        "\n",
        "tau1 = tau[0]\n",
        "tau2 = tau[1]\n",
        "\n",
        "#from here onwards, same logic as in task 1 part b\n",
        "#inital conditions of q and x are changed as they are defined by the user here\n",
        "t = np.linspace(0,100,100)\n",
        "\n",
        "#setting initial conditions\n",
        "XX0 = x1\n",
        "YY0 = y1\n",
        "XX = [XX0, YY0]\n",
        "theta = m.acos((x1**2 + y1**2 - l1**2 - l2**2)/(2*l1*l2))\n",
        "q10 = m.atan(y1/x1) - m.atan(l2*m.sin(theta)/(l1 + l2*m.cos(theta)))\n",
        "q20 = q1 + theta\n",
        "q0 = [q10,q20]\n",
        "Q10 = 0\n",
        "Q20 = 0\n",
        "Q0 = [Q10, Q20]"
      ],
      "metadata": {
        "id": "bOZzJD5G55A7"
      },
      "execution_count": null,
      "outputs": []
    },
    {
      "cell_type": "code",
      "source": [
        "Q = odeint(ode2,Q0,t) #solution for angular velocities\n",
        "q = odeint(ode1,q0,t) #solution for joint variables as a function of time\n",
        "X = odeint(odexy,XX,t) #solution for x and y as functions of time\n",
        "x = X[0]\n",
        "y = X[1]"
      ],
      "metadata": {
        "id": "m5AQGTBvg5AQ"
      },
      "execution_count": null,
      "outputs": []
    },
    {
      "cell_type": "code",
      "source": [
        "spring = animation.FuncAnimation(fig,frame, frames = 100, blit = True) #animation for spring"
      ],
      "metadata": {
        "id": "7b2Cqw3ohkOr"
      },
      "execution_count": null,
      "outputs": []
    },
    {
      "cell_type": "code",
      "source": [
        "spring #viewing animation\n",
        "#loop option already provided in output - is able to simulated repeated oscillations over time"
      ],
      "metadata": {
        "id": "O0-98HPch2sr"
      },
      "execution_count": null,
      "outputs": []
    },
    {
      "cell_type": "code",
      "source": [
        "# task 4\n",
        "#initializing joint 1 variable to 35 degrees\n",
        "q1 = 35*PI/180\n",
        "#creating empty x and y arrays to store end effector values\n",
        "X = []\n",
        "Y = []\n",
        "#moving joint 1 by 1 degree, and each time moving joint 2 from 35 to 145 degrees (again, 1 degree at a time)\n",
        "#at each configuration of the robot's arms, we store the end effector coordinates in X,Y\n",
        "for i in range(111):\n",
        "  q2 = 35*PI/180\n",
        "  for j in range(111):\n",
        "    q2 = q2 + PI/180\n",
        "    X.append(l1*m.cos(q1) + l2*m.cos(q2))\n",
        "    Y.append(l1*m.sin(q1) + l2*m.sin(q2))\n",
        "  q1 = q1 + PI/180\n",
        "#setting limits for axes so that it's easier to understand the graph\n",
        "plt.xlim(-(l1 + l2),(l1 + l2))\n",
        "plt.ylim(0,l1 + 1.1*l2)\n",
        "#creating a scatterplot of end effector points obtained by above process\n",
        "#this will give us a \"shaded\" region that is our workspace\n",
        "sns.scatterplot(X,Y)\n",
        "plt.show()"
      ],
      "metadata": {
        "id": "UI6mw5W8ujqY"
      },
      "execution_count": null,
      "outputs": []
    }
  ]
}