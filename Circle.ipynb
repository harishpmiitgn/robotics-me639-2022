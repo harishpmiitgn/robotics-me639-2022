{
 "cells": [
  {
   "cell_type": "code",
   "execution_count": 1,
   "id": "364ad401",
   "metadata": {},
   "outputs": [
    {
     "data": {
      "image/png": "[encoded data removed]",
      "text/plain": [
       "<Figure size 432x288 with 1 Axes>"
      ]
     },
     "metadata": {
      "needs_background": "light"
     },
     "output_type": "display_data"
    }
   ],
   "source": [
    "import numpy as np\n",
    "import matplotlib.pyplot as plt\n",
    "import math\n",
    "import scipy\n",
    "import cv2\n",
    "\n",
    "\n",
    "from render import Renderer\n",
    "# Renderer is a class(package) which helps to plot in cv2\n",
    "class object(Renderer):\n",
    "    def __init__(self,recordLocation = None):\n",
    "        super().__init__(recordLocation=recordLocation)\n",
    "        self.its = 0\n",
    "        self.xo = 300 \n",
    "        self.yo = 400 # xo,yo is coordinate of center of circle\n",
    "        self.rad = 80 # radius of the circle\n",
    "        self.points = []\n",
    "    def getInfo(self):\n",
    "        info = {\n",
    "            'x': round(self.x,4),\n",
    "            'y': round(self.y,4),\n",
    "        }\n",
    "        return info\n",
    "    def plot(self):\n",
    "        data = np.array(list(self.points))\n",
    "        plt.scatter(data[:,0],data[:,1])\n",
    "        plt.show()\n",
    "        return data\n",
    "        \n",
    "    def step(self,d0):\n",
    "        self.x = self.xo + self.rad*np.cos(d0*math.pi/180)\n",
    "        self.y = self.yo + self.rad*np.sin(d0*math.pi/180)\n",
    "        self.its+=1\n",
    "        if self.its %2.5 == 0:\n",
    "            self.points.append((self.x,self.y))\n",
    "    def draw(self,image):\n",
    "        cv2.circle(image,(int(self.x),int(self.y)),6,(0,255,0),-1)  # red pointer\n",
    "        for x,y in self.points:\n",
    "            cv2.circle(image,(int(x),int(y)),1,(0,0,255),-1) # draw the circle\n",
    "        return image\n",
    "\n",
    "anim = object(recordLocation ='anim.mp4')\n",
    "for i in range(0,5000):\n",
    "    anim.step((360*i)/5000)\n",
    "    if i%5==0:\n",
    "        anim.render(height=600,pause=1)\n",
    "\n",
    "        \n",
    "# Exporting the points of the circle in the excel sheet\n",
    "import pandas as pd\n",
    "\n",
    "df = pd.DataFrame(anim.plot(), columns = ['X','Y']) \n",
    "\n",
    "# Create a Pandas Excel writer using XlsxWriter as the engine.\n",
    "writer = pd.ExcelWriter('circle1.xlsx', engine='xlsxwriter')\n",
    "\n",
    "# Convert the dataframe to an XlsxWriter Excel object.\n",
    "df.to_excel(writer, sheet_name='Sheet1', index=False)\n",
    "\n",
    "# Close the Pandas Excel writer and output the Excel file.\n",
    "writer.save()\n",
    "        \n",
    "        \n",
    "        \n",
    "        \n",
    "\n"
   ]
  },
  {
   "cell_type": "code",
   "execution_count": null,
   "id": "75578875",
   "metadata": {},
   "outputs": [],
   "source": []
  }
 ],
 "metadata": {
  "kernelspec": {
   "display_name": "Python 3 (ipykernel)",
   "language": "python",
   "name": "python3"
  },
  "language_info": {
   "codemirror_mode": {
    "name": "ipython",
    "version": 3
   },
   "file_extension": ".py",
   "mimetype": "text/x-python",
   "name": "python",
   "nbconvert_exporter": "python",
   "pygments_lexer": "ipython3",
   "version": "3.9.7"
  }
 },
 "nbformat": 4,
 "nbformat_minor": 5
}
