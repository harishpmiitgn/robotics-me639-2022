{
 "cells": [
  {
   "cell_type": "code",
   "execution_count": 1,
   "metadata": {},
   "outputs": [],
   "source": [
    "import numpy as np"
   ]
  },
  {
   "cell_type": "code",
   "execution_count": 2,
   "metadata": {},
   "outputs": [],
   "source": [
    "l1=1\n",
    "l2=1\n",
    "l3=1\n",
    "\n",
    "q1=0\n",
    "q2=0\n",
    "d=1"
   ]
  },
  {
   "cell_type": "code",
   "execution_count": 3,
   "metadata": {},
   "outputs": [
    {
     "name": "stdout",
     "output_type": "stream",
     "text": [
      "[[2.]\n",
      " [0.]\n",
      " [0.]]\n"
     ]
    }
   ],
   "source": [
    "R01=np.array([[np.cos(q1), -np.sin(q1), 0],\n",
    "             [np.sin(q1), np.cos(q1), 0],\n",
    "             [0, 0, 1]])\n",
    "d01=np.array([[0],\n",
    "             [0],\n",
    "             [l1]])\n",
    "R12=np.array([[np.cos(q2), -np.sin(q2), 0],\n",
    "             [np.sin(q2), np.cos(q2), 0],\n",
    "             [0, 0, 1]])\n",
    "d12=np.array([[l2],\n",
    "             [0],\n",
    "             [0]])\n",
    "R23=np.array([[1, 0, 0],\n",
    "             [0, 1, 0],\n",
    "             [0, 0, 1]])\n",
    "d23=np.array([[l3],\n",
    "             [0],\n",
    "             [0]])\n",
    "\n",
    "p3 = np.array([[0],\n",
    "               [0],\n",
    "               [-d],\n",
    "               [1]])\n",
    "\n",
    "lastrow=np.array([[0,0,0,1]])\n",
    "\n",
    "H01 = np.concatenate((np.concatenate((R01, d01), axis=1), lastrow), axis=0)\n",
    "\n",
    "H12 = np.concatenate((np.concatenate((R12, d12), axis=1), lastrow), axis=0)\n",
    "\n",
    "H23 = np.concatenate((np.concatenate((R23, d23), axis=1), lastrow), axis=0)\n",
    "\n",
    "\n",
    "p0=(H01@H12@H23@p3)[:-1]\n",
    "print(p0)\n"
   ]
  }
 ],
 "metadata": {
  "kernelspec": {
   "display_name": "Python 3.9.7 ('base')",
   "language": "python",
   "name": "python3"
  },
  "language_info": {
   "codemirror_mode": {
    "name": "ipython",
    "version": 3
   },
   "file_extension": ".py",
   "mimetype": "text/x-python",
   "name": "python",
   "nbconvert_exporter": "python",
   "pygments_lexer": "ipython3",
   "version": "3.9.7"
  },
  "vscode": {
   "interpreter": {
    "hash": "ad2bdc8ecc057115af97d19610ffacc2b4e99fae6737bb82f5d7fb13d2f2c186"
   }
  }
 },
 "nbformat": 4,
 "nbformat_minor": 4
}
