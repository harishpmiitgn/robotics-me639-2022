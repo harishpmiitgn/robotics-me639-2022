{
 "cells": [
  {
   "cell_type": "code",
   "execution_count": 1,
   "metadata": {},
   "outputs": [],
   "source": [
    "import sympy as sym\n",
    "import numpy as np"
   ]
  },
  {
   "cell_type": "code",
   "execution_count": 2,
   "metadata": {},
   "outputs": [],
   "source": [
    "def Rz(self, angle_no):\n",
    "    theta = sym.Symbol('\\u03B8'+str(angle_no))\n",
    "    Rz_theta = sym.Matrix([[sym.cos(theta), -sym.sin(theta), 0], [\n",
    "        sym.sin(theta), sym.cos(theta), 0], [0, 0, 1]])\n",
    "    return Rz_theta"
   ]
  },
  {
   "cell_type": "code",
   "execution_count": 3,
   "metadata": {},
   "outputs": [
    {
     "data": {
      "text/latex": [
       "$\\displaystyle \\left[\\begin{matrix}- a_{1} \\sin{\\left(θ_{1} \\right)} - a_{2} \\sin{\\left(θ1+θ2 \\right)} & - a_{2} \\sin{\\left(θ1+θ2 \\right)} & 0\\\\a_{1} \\cos{\\left(θ_{1} \\right)} + a_{2} \\cos{\\left(θ1+θ2 \\right)} & a_{2} \\cos{\\left(θ1+θ2 \\right)} & 0\\\\0 & 0 & -1\\\\0 & 0 & 0\\\\0 & 0 & 0\\\\1 & 1 & 0\\end{matrix}\\right]$"
      ],
      "text/plain": [
       "Matrix([\n",
       "[-a1*sin(θ1) - a2*sin(θ1+θ2), -a2*sin(θ1+θ2),  0],\n",
       "[ a1*cos(θ1) + a2*cos(θ1+θ2),  a2*cos(θ1+θ2),  0],\n",
       "[                          0,              0, -1],\n",
       "[                          0,              0,  0],\n",
       "[                          0,              0,  0],\n",
       "[                          1,              1,  0]])"
      ]
     },
     "execution_count": 3,
     "metadata": {},
     "output_type": "execute_result"
    }
   ],
   "source": [
    "theta1 = sym.Symbol('\\u03B8' + '1')\n",
    "theta2 = sym.Symbol('\\u03B8' + '2')\n",
    "theta12 = sym.Symbol('\\u03B8' + '1' + '+' + '\\u03B8' + '2')\n",
    "a1 = sym.Symbol('a1')\n",
    "a2 = sym.Symbol('a2')\n",
    "\n",
    "J_RRP = sym.Matrix([[-a1*sym.sin(theta1) - a2*sym.sin(theta12), -a2*sym.sin(theta12), 0],\n",
    "               [a1*sym.cos(theta1) + a2*sym.cos(theta12), a2*sym.cos(theta12), 0],\n",
    "               [0, 0, -1], \n",
    "               [0, 0, 0], \n",
    "               [0, 0, 0], \n",
    "               [1, 1, 0]])\n",
    "J_RRP\n"
   ]
  },
  {
   "cell_type": "code",
   "execution_count": 4,
   "metadata": {},
   "outputs": [
    {
     "data": {
      "text/plain": [
       "array([[-3.53553391, -3.53553391,  0.        ],\n",
       "       [10.53553391,  3.53553391,  0.        ],\n",
       "       [ 0.        ,  0.        , -1.        ],\n",
       "       [ 0.        ,  0.        ,  0.        ],\n",
       "       [ 0.        ,  0.        ,  0.        ],\n",
       "       [ 1.        ,  1.        ,  0.        ]])"
      ]
     },
     "execution_count": 4,
     "metadata": {},
     "output_type": "execute_result"
    }
   ],
   "source": [
    "theta1 = 0\n",
    "theta2 = np.pi/4\n",
    "theta12 = theta1 + theta2\n",
    "a1 = 7\n",
    "a2 = 5\n",
    "\n",
    "J_RRP = np.array([[-a1*np.sin(theta1) - a2*np.sin(theta12), -a2*np.sin(theta12), 0],\n",
    "                  [a1*np.cos(theta1) + a2*np.cos(theta12), a2*np.cos(theta12), 0],\n",
    "                  [0, 0, -1],\n",
    "                  [0, 0, 0],\n",
    "                  [0, 0, 0],\n",
    "                  [1, 1, 0]])\n",
    "J_RRP\n"
   ]
  }
 ],
 "metadata": {
  "kernelspec": {
   "display_name": "Python 3.9.7 ('base')",
   "language": "python",
   "name": "python3"
  },
  "language_info": {
   "codemirror_mode": {
    "name": "ipython",
    "version": 3
   },
   "file_extension": ".py",
   "mimetype": "text/x-python",
   "name": "python",
   "nbconvert_exporter": "python",
   "pygments_lexer": "ipython3",
   "version": "3.9.7"
  },
  "vscode": {
   "interpreter": {
    "hash": "ad2bdc8ecc057115af97d19610ffacc2b4e99fae6737bb82f5d7fb13d2f2c186"
   }
  }
 },
 "nbformat": 4,
 "nbformat_minor": 4
}
