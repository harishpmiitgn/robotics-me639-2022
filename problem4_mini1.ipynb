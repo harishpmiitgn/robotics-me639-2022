{
 "cells": [
  {
   "cell_type": "code",
   "execution_count": 1,
   "id": "b73d60f5",
   "metadata": {},
   "outputs": [
    {
     "data": {
      "image/png": "[encoded data removed]",
      "text/plain": [
       "<Figure size 432x288 with 1 Axes>"
      ]
     },
     "metadata": {
      "needs_background": "light"
     },
     "output_type": "display_data"
    },
    {
     "name": "stdout",
     "output_type": "stream",
     "text": [
      "[[586.7032155  300.75175272]\n",
      " [584.67620552 303.59351591]\n",
      " [582.59990865 306.39947008]\n",
      " ...\n",
      " [ 21.04530012 311.30008291]\n",
      " [ 18.92034883 308.53079247]\n",
      " [ 16.84405197 305.7248383 ]]\n"
     ]
    }
   ],
   "source": [
    "import numpy as np\n",
    "import matplotlib.pyplot as plt\n",
    "import math\n",
    "import scipy\n",
    "import cv2\n",
    "import pandas as pd\n",
    "\n",
    "\n",
    "from render import Renderer\n",
    "# Renderer is a class(package) which helps to plot in cv2\n",
    "class object(Renderer):\n",
    "    def __init__(self, recordLocation = None):\n",
    "        super().__init__(recordLocation=recordLocation)\n",
    "        self.q1 = 0     # q1 is the angle made by the first limb of manipulator with x axis\n",
    "        self.q2 = 0     # q2 is the angle made by the second limb of manipulator with x axis\n",
    "        self.l1 = 150   # length of the first limb\n",
    "        self.l2 = 200   # length of the second limb\n",
    "        self.workspace = []\n",
    "        self.points = []\n",
    "    def getInfo(self):\n",
    "        info = { \n",
    "            'Workspace':'Blue region as shown is the area traversed by end-effector.'\n",
    "        }\n",
    "        return info\n",
    "    def plot(self):\n",
    "        data = np.array(self.workspace)\n",
    "        plt.scatter(data[:,0],data[:,1])\n",
    "        plt.show()\n",
    "        return data\n",
    "        \n",
    "    def step(self):\n",
    "        self.q1 = [i for i in range(35,145,1)]\n",
    "        self.q2 = [i for i in range(35,145,1)]\n",
    "        \n",
    "    def draw(self,image):    \n",
    "        for i in range(len(self.q1)):\n",
    "            for j in range(len(self.q2)):\n",
    "                # (x1,y1) is the coordinate of the joint 1\n",
    "                self.x1 = 300 +self.l1*math.cos(self.q1[i]*math.pi/180)\n",
    "                self.y1 = 100 +self.l1*math.sin(self.q1[i]*math.pi/180)\n",
    "        \n",
    "                # (x2,y2) is the coordinate of the joint 2\n",
    "                self.x2 = self.x1+self.l2*math.cos(self.q2[j]*math.pi/180)\n",
    "                self.y2 = self.y1+self.l2*math.sin(self.q2[j]*math.pi/180)\n",
    "                self.workspace.append((self.x2,self.y2))\n",
    "                self.points.append((self.x1,self.y1,self.x2,self.y2))\n",
    "                \n",
    "        for x1,y1,x2,y2 in self.points:                 \n",
    "            cv2.line(image,(300,100),(int(self.x1),int(self.y1)),(0,255,0),1) # limb1\n",
    "            cv2.line(image,(int(self.x1),int(self.y1)),(int(self.x2),int(self.y2)),(0,0,255),1) # limb2\n",
    "            cv2.circle(image,(int(x2),int(y2)),2,(255,0,0),1)  # trajectory traced by our manipulator\n",
    "\n",
    "        return image \n",
    "\n",
    "\n",
    "anim = object(recordLocation ='anim.mp4')\n",
    "anim.step()\n",
    "anim.render(height=600,pause=1)\n",
    "print(anim.plot())       \n",
    "        \n",
    "        "
   ]
  },
  {
   "cell_type": "code",
   "execution_count": null,
   "id": "45763900",
   "metadata": {},
   "outputs": [],
   "source": []
  }
 ],
 "metadata": {
  "kernelspec": {
   "display_name": "Python 3 (ipykernel)",
   "language": "python",
   "name": "python3"
  },
  "language_info": {
   "codemirror_mode": {
    "name": "ipython",
    "version": 3
   },
   "file_extension": ".py",
   "mimetype": "text/x-python",
   "name": "python",
   "nbconvert_exporter": "python",
   "pygments_lexer": "ipython3",
   "version": "3.9.7"
  }
 },
 "nbformat": 4,
 "nbformat_minor": 5
}
