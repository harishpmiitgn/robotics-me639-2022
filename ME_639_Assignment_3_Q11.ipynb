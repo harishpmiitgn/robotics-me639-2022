{
  "nbformat": 4,
  "nbformat_minor": 0,
  "metadata": {
    "colab": {
      "provenance": [],
      "authorship_tag": "ABX9TyPOaPUVkrfvSAGKUpcVzS/z",
      "include_colab_link": true
    },
    "kernelspec": {
      "name": "python3",
      "display_name": "Python 3"
    },
    "language_info": {
      "name": "python"
    }
  },
  "cells": [
    {
      "cell_type": "markdown",
      "metadata": {
        "id": "view-in-github",
        "colab_type": "text"
      },
      "source": [
        "<a href=\"https://colab.research.google.com/github/Shaandili/robotics-me639-2022/blob/Shaandili/ME_639_Assignment_3_Q11.ipynb\" target=\"_parent\"><img src=\"https://colab.research.google.com/assets/colab-badge.svg\" alt=\"Open In Colab\"/></a>"
      ]
    },
    {
      "cell_type": "code",
      "execution_count": null,
      "metadata": {
        "id": "gC8i1Hsvt_aW"
      },
      "outputs": [],
      "source": [
        "import sympy as sym\n",
        "import numpy as np\n",
        "n = int(input()) #no. of dof\n",
        "g = [] #dV/dqk matrix\n",
        "V = sym.sympify(input()) #V(q) input\n",
        "for i in range(n):\n",
        "  g.append(sym.diff(V,sym.symbols(\"q\"+str(i+1)))) #calculating values of g"
      ]
    },
    {
      "cell_type": "code",
      "source": [
        "d = [] #D(q)\n",
        "for i in range(n):\n",
        "  drow = []\n",
        "  for j in range(n):\n",
        "    drow.append(sym.sympify(input()))\n",
        "  d.append(drow) #D(q) input"
      ],
      "metadata": {
        "id": "OVs5kzjdAJ7o"
      },
      "execution_count": null,
      "outputs": []
    },
    {
      "cell_type": "code",
      "source": [
        "c = [] #christoffel's symbols of the first kind\n",
        "for k in range(n):\n",
        "  crow = []\n",
        "  for i in range(n):\n",
        "    for j in range(n):\n",
        "      A = sym.diff(d[k][j],sym.symbols(\"q\"+str(i+1)))\n",
        "      B = sym.diff(d[k][i],sym.symbols(\"q\"+str(j+1)))\n",
        "      C = sym.diff(d[i][j],sym.symbols(\"q\"+str(k+1)))\n",
        "      crow.append(0.5*(A+B-C)) #calculation of cijk\n",
        "  c.append(crow)\n",
        "c"
      ],
      "metadata": {
        "id": "jvPZ2ipUR-xc"
      },
      "execution_count": null,
      "outputs": []
    },
    {
      "cell_type": "code",
      "source": [
        "#creating new symbols for first and second order derivatives of q\n",
        "qdubdot = []\n",
        "qdot = []\n",
        "for k in range(n):\n",
        "  qdubdot.append(sym.symbols(\"q\"+str(k+1)+\"dubdot\"))\n",
        "  qdot.append(sym.symbols(\"q\"+str(k+1)+\"dot\"))\n",
        "#finding torque, i.e. dynamic equations\n",
        "tau = []\n",
        "for k in range(n):\n",
        "  D = 0\n",
        "  for i in range(n):\n",
        "    D = D+d[k][i]*qdubdot[i]\n",
        "  tau.append(D+g[k]) #tau = D(q)q\"+ g(q)\n",
        "for k in range(n):\n",
        "  C = 0\n",
        "  p = 0\n",
        "  for i in range(n):\n",
        "    for j in range(n):\n",
        "      C = C + c[k][p]*qdot[i]*qdot[j]\n",
        "      p = p+1\n",
        "  tau[k] = tau[k]+C #tau = D(q)q\" + C(q,q')q' + g(q)\n",
        "tau #matrix for system's dynamic equations, where tau[k] = torque at a particular joint"
      ],
      "metadata": {
        "id": "DLddyCvsASTG"
      },
      "execution_count": null,
      "outputs": []
    }
  ]
}